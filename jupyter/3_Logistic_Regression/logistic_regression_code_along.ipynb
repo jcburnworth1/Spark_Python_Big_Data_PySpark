{
 "cells": [
  {
   "cell_type": "code",
   "execution_count": 52,
   "id": "6fdf49e0-00e9-46a4-bb9d-f308b803dab6",
   "metadata": {},
   "outputs": [],
   "source": [
    "## Import Libraries\n",
    "from pyspark.sql import SparkSession\n",
    "from pyspark.ml.linalg import Vectors\n",
    "from pyspark.ml import Pipeline\n",
    "from pyspark.ml.feature import VectorAssembler, OneHotEncoder, StringIndexer\n",
    "from pyspark.sql.types import StructType, StructField, StringType, DoubleType, IntegerType\n",
    "from pyspark.ml.classification import LogisticRegression\n",
    "from pyspark.ml.evaluation import BinaryClassificationEvaluator\n",
    "\n",
    "## Set seed\n",
    "seed = 42"
   ]
  },
  {
   "cell_type": "code",
   "execution_count": 39,
   "id": "a3264ae1-3c2d-4c4f-8839-3cda5c614a70",
   "metadata": {},
   "outputs": [],
   "source": [
    "## Create Spark Session\n",
    "spark = SparkSession.builder.appName('logRegCodeAlong').getOrCreate()"
   ]
  },
  {
   "cell_type": "code",
   "execution_count": 40,
   "id": "a7b1c388-6d55-42eb-8f9a-0dd112af466a",
   "metadata": {},
   "outputs": [],
   "source": [
    "## Setup Schema\n",
    "schema = StructType(fields=[StructField('passenger_id', IntegerType(), True),\n",
    "                            StructField('survived', IntegerType(), True),\n",
    "                            StructField('p_class', IntegerType(), True),\n",
    "                            StructField('name', StringType(), True),\n",
    "                            StructField('sex', StringType(), True),\n",
    "                            StructField('age', DoubleType(), True),\n",
    "                            StructField('sib_sp', IntegerType(), True),\n",
    "                            StructField('parch', IntegerType(), True),\n",
    "                            StructField('ticket', StringType(), True),\n",
    "                            StructField('fare', DoubleType(), True),\n",
    "                            StructField('cabin', StringType(), True),\n",
    "                            StructField('embarked', StringType(), True)])"
   ]
  },
  {
   "cell_type": "code",
   "execution_count": 41,
   "id": "a801cd56-95d9-4999-8c18-8a7a2d468b11",
   "metadata": {},
   "outputs": [
    {
     "name": "stdout",
     "output_type": "stream",
     "text": [
      "+------------+--------+-------+--------------------+------+----+------+-----+----------------+-------+-----+--------+\n",
      "|passenger_id|survived|p_class|                name|   sex| age|sib_sp|parch|          ticket|   fare|cabin|embarked|\n",
      "+------------+--------+-------+--------------------+------+----+------+-----+----------------+-------+-----+--------+\n",
      "|           1|       0|      3|Braund, Mr. Owen ...|  male|22.0|     1|    0|       A/5 21171|   7.25| null|       S|\n",
      "|           2|       1|      1|Cumings, Mrs. Joh...|female|38.0|     1|    0|        PC 17599|71.2833|  C85|       C|\n",
      "|           3|       1|      3|Heikkinen, Miss. ...|female|26.0|     0|    0|STON/O2. 3101282|  7.925| null|       S|\n",
      "|           4|       1|      1|Futrelle, Mrs. Ja...|female|35.0|     1|    0|          113803|   53.1| C123|       S|\n",
      "|           5|       0|      3|Allen, Mr. Willia...|  male|35.0|     0|    0|          373450|   8.05| null|       S|\n",
      "+------------+--------+-------+--------------------+------+----+------+-----+----------------+-------+-----+--------+\n",
      "only showing top 5 rows\n",
      "\n",
      "root\n",
      " |-- passenger_id: integer (nullable = true)\n",
      " |-- survived: integer (nullable = true)\n",
      " |-- p_class: integer (nullable = true)\n",
      " |-- name: string (nullable = true)\n",
      " |-- sex: string (nullable = true)\n",
      " |-- age: double (nullable = true)\n",
      " |-- sib_sp: integer (nullable = true)\n",
      " |-- parch: integer (nullable = true)\n",
      " |-- ticket: string (nullable = true)\n",
      " |-- fare: double (nullable = true)\n",
      " |-- cabin: string (nullable = true)\n",
      " |-- embarked: string (nullable = true)\n",
      "\n"
     ]
    }
   ],
   "source": [
    "## Load Data\n",
    "df = spark.read.csv('gs://spark-training-data/datasets/titanic.csv', header=True, inferSchema=False, schema=schema)\n",
    "df.show(5)\n",
    "df.printSchema() # Confirm proper schema"
   ]
  },
  {
   "cell_type": "code",
   "execution_count": 42,
   "id": "7fa3109a-bab9-4022-860a-dc9b6f2184e4",
   "metadata": {},
   "outputs": [],
   "source": [
    "## Subset data for modeling\n",
    "df_sub = df.select(['survived', 'p_class', 'sex', 'age', 'sib_sp', 'parch', 'fare', 'embarked'])"
   ]
  },
  {
   "cell_type": "code",
   "execution_count": 43,
   "id": "4d4f7a89-710c-46db-85c8-43cdfa882304",
   "metadata": {},
   "outputs": [
    {
     "name": "stdout",
     "output_type": "stream",
     "text": [
      "+--------+-------+------+----+------+-----+-------+--------+\n",
      "|survived|p_class|   sex| age|sib_sp|parch|   fare|embarked|\n",
      "+--------+-------+------+----+------+-----+-------+--------+\n",
      "|       0|      3|  male|22.0|     1|    0|   7.25|       S|\n",
      "|       1|      1|female|38.0|     1|    0|71.2833|       C|\n",
      "|       1|      3|female|26.0|     0|    0|  7.925|       S|\n",
      "|       1|      1|female|35.0|     1|    0|   53.1|       S|\n",
      "|       0|      3|  male|35.0|     0|    0|   8.05|       S|\n",
      "+--------+-------+------+----+------+-----+-------+--------+\n",
      "only showing top 5 rows\n",
      "\n"
     ]
    }
   ],
   "source": [
    "## Drop cols with missing data - Total records drop from 891 to 712\n",
    "df_sub_final = df_sub.na.drop()\n",
    "df_sub_final.show(5)"
   ]
  },
  {
   "cell_type": "code",
   "execution_count": 44,
   "id": "ab651a81-a59b-431e-aa10-76051df4a16d",
   "metadata": {},
   "outputs": [],
   "source": [
    "## Gender Indexer & Encoder\n",
    "gender_indexer = StringIndexer(inputCol='sex', outputCol='sex_index')\n",
    "gender_encoder = OneHotEncoder(inputCol='sex_index', outputCol='sex_vector')\n",
    "\n",
    "## Embark Encoder\n",
    "embark_indexer = StringIndexer(inputCol='embarked', outputCol='embarked_index')\n",
    "embark_encoder = OneHotEncoder(inputCol='embarked_index', outputCol='embarked_vector')"
   ]
  },
  {
   "cell_type": "code",
   "execution_count": 45,
   "id": "cbea5efa-4a05-4c7b-9494-38513cf4e81c",
   "metadata": {},
   "outputs": [],
   "source": [
    "## Build Assembler - Remember to use vector columns rather than sex / embarked or indexes\n",
    "assembler = VectorAssembler(inputCols=['p_class', 'sex_vector', 'age', 'sib_sp',\n",
    "                                       'parch', 'fare', 'embarked_vector'],\n",
    "                           outputCol='features')"
   ]
  },
  {
   "cell_type": "code",
   "execution_count": 49,
   "id": "c74c3905-3c54-44bf-a864-4d878e02a763",
   "metadata": {},
   "outputs": [],
   "source": [
    "## Build Pipeline\n",
    "log_reg_titanic = LogisticRegression(featuresCol='features', labelCol='survived')\n",
    "\n",
    "pipeline = Pipeline(stages=[gender_indexer, embark_indexer,\n",
    "                            gender_encoder, embark_encoder,\n",
    "                            assembler, log_reg_titanic])"
   ]
  },
  {
   "cell_type": "code",
   "execution_count": 50,
   "id": "474019d0-d438-429a-b87d-fd8de6597a3c",
   "metadata": {},
   "outputs": [],
   "source": [
    "## Generate Train / Test data\n",
    "train_data, test_data = df_sub_final.randomSplit([0.7,0.3], seed=seed)"
   ]
  },
  {
   "cell_type": "code",
   "execution_count": 51,
   "id": "d00e3b14-50de-46d3-b8aa-e6a99dae7326",
   "metadata": {},
   "outputs": [
    {
     "name": "stderr",
     "output_type": "stream",
     "text": [
      "21/11/23 21:30:24 WARN com.github.fommil.netlib.BLAS: Failed to load implementation from: com.github.fommil.netlib.NativeSystemBLAS\n",
      "21/11/23 21:30:24 WARN com.github.fommil.netlib.BLAS: Failed to load implementation from: com.github.fommil.netlib.NativeRefBLAS\n"
     ]
    }
   ],
   "source": [
    "## Run the model\n",
    "fit_model = pipeline.fit(train_data)"
   ]
  },
  {
   "cell_type": "code",
   "execution_count": 54,
   "id": "5b467040-08cd-4d85-a369-0782e5b680f9",
   "metadata": {},
   "outputs": [],
   "source": [
    "## Create Binary Classifier\n",
    "results = fit_model.transform(test_data)\n",
    "results_eval = BinaryClassificationEvaluator(rawPredictionCol='prediction', labelCol='survived')"
   ]
  },
  {
   "cell_type": "code",
   "execution_count": 57,
   "id": "1e113f34-d497-46f8-8a3e-a263299b984e",
   "metadata": {},
   "outputs": [
    {
     "name": "stdout",
     "output_type": "stream",
     "text": [
      "+--------------------+--------+--------------------+--------------------+----------+\n",
      "|            features|survived|       rawPrediction|         probability|prediction|\n",
      "+--------------------+--------+--------------------+--------------------+----------+\n",
      "|(8,[0,2,5,7],[1.0...|       0|[-2.7549899175470...|[0.05980545621100...|       1.0|\n",
      "|[1.0,1.0,21.0,0.0...|       0|[-0.8823600456852...|[0.29268895828188...|       1.0|\n",
      "|[1.0,1.0,24.0,0.0...|       0|[-1.3741730199859...|[0.20194646889313...|       1.0|\n",
      "|[1.0,1.0,24.0,0.0...|       0|[-1.5735624950255...|[0.17170912279073...|       1.0|\n",
      "|[1.0,1.0,29.0,0.0...|       0|[-0.4549423123065...|[0.38818633160459...|       1.0|\n",
      "+--------------------+--------+--------------------+--------------------+----------+\n",
      "only showing top 5 rows\n",
      "\n"
     ]
    }
   ],
   "source": [
    "## View Results\n",
    "results.select(['features', 'survived', 'rawPrediction', 'probability', 'prediction']).show(5)"
   ]
  },
  {
   "cell_type": "code",
   "execution_count": 68,
   "id": "5185dba7-e576-47b3-9f4d-6d4bce97b7a8",
   "metadata": {},
   "outputs": [
    {
     "name": "stdout",
     "output_type": "stream",
     "text": [
      "AUC: 0.7747561675272518\n"
     ]
    }
   ],
   "source": [
    "## Evaluate area under the curve\n",
    "AUC = results_eval.evaluate(results)\n",
    "print(f'AUC: {AUC}')"
   ]
  },
  {
   "cell_type": "code",
   "execution_count": 73,
   "id": "1573dbd1-b793-4b2e-abd5-9ad9d552c475",
   "metadata": {},
   "outputs": [
    {
     "data": {
      "text/plain": [
       "DenseVector([-1.3867, -2.4384, -0.0393, -0.5029, 0.0793, 0.0007, 0.43, 1.1177])"
      ]
     },
     "execution_count": 73,
     "metadata": {},
     "output_type": "execute_result"
    }
   ],
   "source": [
    "## Show model coefficients\n",
    "fit_model.stages[-1].coefficients"
   ]
  }
 ],
 "metadata": {
  "kernelspec": {
   "display_name": "Python 3",
   "language": "python",
   "name": "python3"
  },
  "language_info": {
   "codemirror_mode": {
    "name": "ipython",
    "version": 3
   },
   "file_extension": ".py",
   "mimetype": "text/x-python",
   "name": "python",
   "nbconvert_exporter": "python",
   "pygments_lexer": "ipython3",
   "version": "3.8.12"
  }
 },
 "nbformat": 4,
 "nbformat_minor": 5
}