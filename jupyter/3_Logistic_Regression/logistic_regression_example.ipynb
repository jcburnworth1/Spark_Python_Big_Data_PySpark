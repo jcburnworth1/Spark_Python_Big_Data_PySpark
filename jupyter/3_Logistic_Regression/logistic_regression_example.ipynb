{
 "cells": [
  {
   "cell_type": "code",
   "execution_count": 28,
   "id": "c303fbef-43e6-4838-ba72-7e288d43b085",
   "metadata": {},
   "outputs": [],
   "source": [
    "## Import Libraries\n",
    "from pyspark.sql import SparkSession\n",
    "from pyspark.ml.evaluation import BinaryClassificationEvaluator, MulticlassClassificationEvaluator\n",
    "from pyspark.ml.classification import LogisticRegression\n",
    "\n",
    "## Set seed\n",
    "seed = 42"
   ]
  },
  {
   "cell_type": "code",
   "execution_count": 29,
   "id": "c50e44a0-26f4-494a-b6e6-82a748c4ab4e",
   "metadata": {},
   "outputs": [],
   "source": [
    "## Create Spark Session\n",
    "spark = SparkSession.builder.appName('logRegExample').getOrCreate()"
   ]
  },
  {
   "cell_type": "code",
   "execution_count": 30,
   "id": "1faa11d0-f155-4177-9d4a-9da210a4251d",
   "metadata": {},
   "outputs": [
    {
     "name": "stderr",
     "output_type": "stream",
     "text": [
      "21/11/23 20:37:22 WARN org.apache.spark.ml.source.libsvm.LibSVMFileFormat: 'numFeatures' option not specified, determining the number of features by going though the input. If you know the number in advance, please specify it via 'numFeatures' option to avoid the extra scan.\n"
     ]
    },
    {
     "name": "stdout",
     "output_type": "stream",
     "text": [
      "+-----+--------------------+\n",
      "|label|            features|\n",
      "+-----+--------------------+\n",
      "|  0.0|(692,[127,128,129...|\n",
      "|  1.0|(692,[158,159,160...|\n",
      "|  1.0|(692,[124,125,126...|\n",
      "|  1.0|(692,[152,153,154...|\n",
      "|  1.0|(692,[151,152,153...|\n",
      "+-----+--------------------+\n",
      "only showing top 5 rows\n",
      "\n"
     ]
    }
   ],
   "source": [
    "## Load Data\n",
    "df = spark.read.format('libsvm').load('gs://spark-training-data/datasets/sample_libsvm_data.txt')\n",
    "df.show(5)"
   ]
  },
  {
   "cell_type": "code",
   "execution_count": 31,
   "id": "495ca543-ef79-4d17-b8bf-88ad519299c7",
   "metadata": {},
   "outputs": [],
   "source": [
    "## Split into train, test\n",
    "train_data, test_data = df.randomSplit([0.7,0.3], seed=seed)"
   ]
  },
  {
   "cell_type": "code",
   "execution_count": 32,
   "id": "9d3641fa-92ca-4282-b903-7dfb5bd93a06",
   "metadata": {},
   "outputs": [],
   "source": [
    "## Create model instance and fit\n",
    "logReg = LogisticRegression(labelCol='label', featuresCol='features', predictionCol='prediction')\n",
    "logRegModel = logReg.fit(train_data)"
   ]
  },
  {
   "cell_type": "code",
   "execution_count": 33,
   "id": "121d7f80-9341-4a69-ab6c-ff27d6935fc2",
   "metadata": {},
   "outputs": [
    {
     "name": "stdout",
     "output_type": "stream",
     "text": [
      "root\n",
      " |-- label: double (nullable = true)\n",
      " |-- features: vector (nullable = true)\n",
      " |-- rawPrediction: vector (nullable = true)\n",
      " |-- probability: vector (nullable = true)\n",
      " |-- prediction: double (nullable = false)\n",
      "\n",
      "+-----+--------------------+--------------------+--------------------+----------+\n",
      "|label|            features|       rawPrediction|         probability|prediction|\n",
      "+-----+--------------------+--------------------+--------------------+----------+\n",
      "|  0.0|(692,[95,96,97,12...|[21.2605832354368...|[0.99999999941568...|       0.0|\n",
      "|  0.0|(692,[98,99,100,1...|[24.6172806585456...|[0.99999999997963...|       0.0|\n",
      "|  0.0|(692,[121,122,123...|[21.3531473607449...|[0.99999999946734...|       0.0|\n",
      "|  0.0|(692,[122,123,124...|[20.9193913009773...|[0.99999999917809...|       0.0|\n",
      "|  0.0|(692,[122,123,148...|[20.8799716616791...|[0.99999999914504...|       0.0|\n",
      "+-----+--------------------+--------------------+--------------------+----------+\n",
      "only showing top 5 rows\n",
      "\n"
     ]
    }
   ],
   "source": [
    "## Print Predictions Schema\n",
    "log_summary = logRegModel.summary\n",
    "log_summary.predictions.printSchema()\n",
    "log_summary.predictions.show(5)"
   ]
  },
  {
   "cell_type": "code",
   "execution_count": 34,
   "id": "758efd5e-363c-436e-9566-f319140403db",
   "metadata": {},
   "outputs": [
    {
     "name": "stdout",
     "output_type": "stream",
     "text": [
      "+-----+--------------------+--------------------+--------------------+----------+\n",
      "|label|            features|       rawPrediction|         probability|prediction|\n",
      "+-----+--------------------+--------------------+--------------------+----------+\n",
      "|  0.0|(692,[100,101,102...|[12.2223514699748...|[0.99999508075940...|       0.0|\n",
      "|  0.0|(692,[123,124,125...|[29.7047074388391...|[0.99999999999987...|       0.0|\n",
      "|  0.0|(692,[123,124,125...|[20.9176718835119...|[0.99999999917667...|       0.0|\n",
      "|  0.0|(692,[124,125,126...|[45.0073919136100...|           [1.0,0.0]|       0.0|\n",
      "|  0.0|(692,[124,125,126...|[24.3368966091045...|[0.99999999997304...|       0.0|\n",
      "+-----+--------------------+--------------------+--------------------+----------+\n",
      "only showing top 5 rows\n",
      "\n"
     ]
    }
   ],
   "source": [
    "## Evaluate the Model using test data\n",
    "prediction_and_labels = logRegModel.evaluate(test_data)\n",
    "prediction_and_labels.predictions.show(5)"
   ]
  },
  {
   "cell_type": "code",
   "execution_count": 35,
   "id": "5af995ed-1b6b-460d-9958-24b26a865e75",
   "metadata": {},
   "outputs": [],
   "source": [
    "## Binary Classifcation Eval Example\n",
    "bi_eval = BinaryClassificationEvaluator(labelCol='label', rawPredictionCol='rawPrediction', metricName='areaUnderROC')"
   ]
  },
  {
   "cell_type": "code",
   "execution_count": 36,
   "id": "801029c6-3532-49e8-ba0d-6da56325285b",
   "metadata": {},
   "outputs": [
    {
     "data": {
      "text/plain": [
       "1.0"
      ]
     },
     "execution_count": 36,
     "metadata": {},
     "output_type": "execute_result"
    }
   ],
   "source": [
    "bi_eval_final = bi_eval.evaluate(prediction_and_labels.predictions)\n",
    "bi_eval_final"
   ]
  },
  {
   "cell_type": "code",
   "execution_count": null,
   "id": "8717c292-9a6a-4bac-8916-78e721879129",
   "metadata": {},
   "outputs": [],
   "source": []
  }
 ],
 "metadata": {
  "kernelspec": {
   "display_name": "PySpark",
   "language": "python",
   "name": "pyspark"
  },
  "language_info": {
   "codemirror_mode": {
    "name": "ipython",
    "version": 3
   },
   "file_extension": ".py",
   "mimetype": "text/x-python",
   "name": "python",
   "nbconvert_exporter": "python",
   "pygments_lexer": "ipython3",
   "version": "3.8.12"
  }
 },
 "nbformat": 4,
 "nbformat_minor": 5
}