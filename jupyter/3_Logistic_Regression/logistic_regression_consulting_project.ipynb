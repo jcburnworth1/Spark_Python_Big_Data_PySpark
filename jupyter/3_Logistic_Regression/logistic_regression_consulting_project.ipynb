{
 "cells": [
  {
   "cell_type": "code",
   "execution_count": 2,
   "id": "79d7e3cf-8ec9-445d-ad8b-8201f33a2153",
   "metadata": {},
   "outputs": [],
   "source": [
    "## Import Libraries\n",
    "from pyspark.sql import SparkSession\n",
    "from pyspark.ml.linalg import Vectors\n",
    "from pyspark.ml import Pipeline\n",
    "from pyspark.ml.feature import VectorAssembler\n",
    "from pyspark.sql.types import StructType, StructField, StringType, DoubleType, IntegerType, TimestampType\n",
    "from pyspark.ml.classification import LogisticRegression\n",
    "from pyspark.ml.evaluation import BinaryClassificationEvaluator\n",
    "\n",
    "## Set seed\n",
    "seed = 42"
   ]
  },
  {
   "cell_type": "code",
   "execution_count": 3,
   "id": "2a78393a-35e3-4859-aa55-d167ce96ee24",
   "metadata": {},
   "outputs": [
    {
     "name": "stderr",
     "output_type": "stream",
     "text": [
      "Setting default log level to \"WARN\".\n",
      "To adjust logging level use sc.setLogLevel(newLevel). For SparkR, use setLogLevel(newLevel).\n"
     ]
    }
   ],
   "source": [
    "## Create Spark Session\n",
    "spark = SparkSession.builder.appName('logRegConsProject').getOrCreate()"
   ]
  },
  {
   "cell_type": "code",
   "execution_count": 4,
   "id": "7fde4ef1-27f9-4910-bf74-4a4a86316bc7",
   "metadata": {},
   "outputs": [],
   "source": [
    "## Setup Schema\n",
    "schema = StructType(fields=[StructField('name', StringType(), True),\n",
    "                            StructField('age', DoubleType(), True),\n",
    "                            StructField('total_purchase', DoubleType(), True),\n",
    "                            StructField('account_manager', IntegerType(), True),\n",
    "                            StructField('years', DoubleType(), True),\n",
    "                            StructField('num_sites', DoubleType(), True),\n",
    "                            StructField('onboard_date', TimestampType(), True),\n",
    "                            StructField('location', StringType(), True),\n",
    "                            StructField('company', StringType(), True),\n",
    "                            StructField('churn', IntegerType(), True)])"
   ]
  },
  {
   "cell_type": "code",
   "execution_count": 5,
   "id": "0904af6c-1a11-4351-81f7-87cfc57b3d3c",
   "metadata": {},
   "outputs": [
    {
     "name": "stderr",
     "output_type": "stream",
     "text": [
      "[Stage 0:>                                                          (0 + 1) / 1]\r"
     ]
    },
    {
     "name": "stdout",
     "output_type": "stream",
     "text": [
      "+----------------+----+--------------+---------------+-----+---------+-------------------+--------------------+--------------------+-----+\n",
      "|            name| age|total_purchase|account_manager|years|num_sites|       onboard_date|            location|             company|churn|\n",
      "+----------------+----+--------------+---------------+-----+---------+-------------------+--------------------+--------------------+-----+\n",
      "|Cameron Williams|42.0|       11066.8|              0| 7.22|      8.0|2013-08-30 07:00:40|10265 Elizabeth M...|          Harvey LLC|    1|\n",
      "|   Kevin Mueller|41.0|      11916.22|              0|  6.5|     11.0|2013-08-13 00:38:46|6157 Frank Garden...|          Wilson PLC|    1|\n",
      "|     Eric Lozano|38.0|      12884.75|              0| 6.67|     12.0|2016-06-29 06:20:07|1331 Keith Court ...|Miller, Johnson a...|    1|\n",
      "|   Phillip White|42.0|       8010.76|              0| 6.71|     10.0|2014-04-22 12:43:12|13120 Daniel Moun...|           Smith Inc|    1|\n",
      "|  Cynthia Norton|37.0|       9191.58|              0| 5.56|      9.0|2016-01-19 15:31:15|765 Tricia Row Ka...|          Love-Jones|    1|\n",
      "+----------------+----+--------------+---------------+-----+---------+-------------------+--------------------+--------------------+-----+\n",
      "only showing top 5 rows\n",
      "\n",
      "root\n",
      " |-- name: string (nullable = true)\n",
      " |-- age: double (nullable = true)\n",
      " |-- total_purchase: double (nullable = true)\n",
      " |-- account_manager: integer (nullable = true)\n",
      " |-- years: double (nullable = true)\n",
      " |-- num_sites: double (nullable = true)\n",
      " |-- onboard_date: timestamp (nullable = true)\n",
      " |-- location: string (nullable = true)\n",
      " |-- company: string (nullable = true)\n",
      " |-- churn: integer (nullable = true)\n",
      "\n"
     ]
    },
    {
     "name": "stderr",
     "output_type": "stream",
     "text": [
      "                                                                                \r"
     ]
    }
   ],
   "source": [
    "## Load Data\n",
    "df = spark.read.csv('gs://spark-training-data/datasets/customer_churn.csv', header=True,\n",
    "                    inferSchema=False, schema=schema)\n",
    "df.show(5)\n",
    "df.printSchema() ## Confirm proper schema"
   ]
  },
  {
   "cell_type": "code",
   "execution_count": 6,
   "id": "06adeed2-89cf-49bf-ad3e-e4d390092d30",
   "metadata": {},
   "outputs": [],
   "source": [
    "## Assembler & Create modeling df\n",
    "## Does not appear that indexers or encoders are necessary\n",
    "assembler = VectorAssembler(inputCols=['age', 'total_purchase', 'account_manager',\n",
    "                                       'years', 'num_sites'],\n",
    "                           outputCol='features')\n",
    "output = assembler.transform(df)\n",
    "final_data = output.select('features','churn')"
   ]
  },
  {
   "cell_type": "code",
   "execution_count": 7,
   "id": "e31cb859-f951-497d-816f-2c7eb3931a7a",
   "metadata": {},
   "outputs": [],
   "source": [
    "## Split Data\n",
    "train_data, test_data = final_data.randomSplit([0.7, 0.3], seed=seed)"
   ]
  },
  {
   "cell_type": "code",
   "execution_count": 8,
   "id": "f1d329dd-fa3e-41d3-824a-5573050bef72",
   "metadata": {},
   "outputs": [
    {
     "name": "stderr",
     "output_type": "stream",
     "text": [
      "21/11/24 21:57:09 WARN com.github.fommil.netlib.BLAS: Failed to load implementation from: com.github.fommil.netlib.NativeSystemBLAS\n",
      "21/11/24 21:57:09 WARN com.github.fommil.netlib.BLAS: Failed to load implementation from: com.github.fommil.netlib.NativeRefBLAS\n",
      "21/11/24 21:57:11 WARN org.apache.spark.storage.BlockManager: Asked to remove block broadcast_36_piece0, which does not exist\n",
      "21/11/24 21:57:11 WARN org.apache.spark.storage.BlockManager: Asked to remove block broadcast_36, which does not exist\n"
     ]
    }
   ],
   "source": [
    "## Build model\n",
    "log_reg = LogisticRegression(featuresCol='features', labelCol='churn', predictionCol='prediction')\n",
    "log_reg_model = log_reg.fit(train_data)"
   ]
  },
  {
   "cell_type": "code",
   "execution_count": 9,
   "id": "3d5f2bca-878a-4a00-8157-c9a8d0ad3ab5",
   "metadata": {},
   "outputs": [
    {
     "name": "stderr",
     "output_type": "stream",
     "text": [
      "[Stage 46:>                                                         (0 + 1) / 1]\r"
     ]
    },
    {
     "name": "stdout",
     "output_type": "stream",
     "text": [
      "+-------+------------------+-------------------+\n",
      "|summary|             churn|         prediction|\n",
      "+-------+------------------+-------------------+\n",
      "|  count|               667|                667|\n",
      "|   mean|0.1634182908545727|0.12293853073463268|\n",
      "| stddev|0.3700243606477147|0.32861306618408714|\n",
      "|    min|               0.0|                0.0|\n",
      "|    max|               1.0|                1.0|\n",
      "+-------+------------------+-------------------+\n",
      "\n"
     ]
    },
    {
     "name": "stderr",
     "output_type": "stream",
     "text": [
      "                                                                                \r"
     ]
    }
   ],
   "source": [
    "## Summarize Model\n",
    "model_summary = log_reg_model.summary\n",
    "model_summary.predictions.describe().show()"
   ]
  },
  {
   "cell_type": "code",
   "execution_count": 10,
   "id": "41ae3d94-4a89-428b-b834-fddcd7295f9f",
   "metadata": {},
   "outputs": [
    {
     "name": "stdout",
     "output_type": "stream",
     "text": [
      "+--------------------+-----+--------------------+--------------------+----------+\n",
      "|            features|churn|       rawPrediction|         probability|prediction|\n",
      "+--------------------+-----+--------------------+--------------------+----------+\n",
      "|[26.0,8787.39,1.0...|    1|[0.79106193949545...|[0.68805930409057...|       0.0|\n",
      "|[28.0,9090.43,1.0...|    0|[1.61026634613434...|[0.83344836179841...|       0.0|\n",
      "|[28.0,11204.23,0....|    0|[1.97148327271884...|[0.87777034205971...|       0.0|\n",
      "|[28.0,11245.38,0....|    0|[3.75330942021012...|[0.97709680745324...|       0.0|\n",
      "|[29.0,9617.59,0.0...|    0|[4.42202740353912...|[0.98813266624674...|       0.0|\n",
      "|[29.0,10203.18,1....|    0|[3.71080374825935...|[0.97612604829734...|       0.0|\n",
      "|[29.0,11274.46,1....|    0|[4.39058453619493...|[0.98775823543341...|       0.0|\n",
      "|[30.0,6744.87,0.0...|    0|[3.55749176407943...|[0.97228005685650...|       0.0|\n",
      "|[30.0,8403.78,1.0...|    0|[5.76304532016813...|[0.99686830825215...|       0.0|\n",
      "|[30.0,8874.83,0.0...|    0|[3.22709689469612...|[0.96184134424013...|       0.0|\n",
      "|[30.0,10183.98,1....|    0|[2.87524782249733...|[0.94660919659143...|       0.0|\n",
      "|[30.0,12788.37,0....|    0|[2.55636640166318...|[0.92800005264384...|       0.0|\n",
      "|[30.0,13473.35,0....|    0|[2.76977896436194...|[0.94102072009296...|       0.0|\n",
      "|[31.0,5304.6,0.0,...|    0|[3.48758663311625...|[0.97033250021324...|       0.0|\n",
      "|[31.0,7073.61,0.0...|    0|[3.16501294068728...|[0.95949621486576...|       0.0|\n",
      "|[31.0,8829.83,1.0...|    0|[4.33951378016708...|[0.98712505781289...|       0.0|\n",
      "|[31.0,9574.89,0.0...|    0|[3.31876911386954...|[0.96506711887334...|       0.0|\n",
      "|[31.0,11743.24,0....|    0|[6.54958198634204...|[0.99857133048568...|       0.0|\n",
      "|[32.0,6367.22,1.0...|    0|[3.02498338043787...|[0.95369011614944...|       0.0|\n",
      "|[32.0,7896.65,0.0...|    0|[3.45646201541652...|[0.96942326851500...|       0.0|\n",
      "+--------------------+-----+--------------------+--------------------+----------+\n",
      "only showing top 20 rows\n",
      "\n"
     ]
    }
   ],
   "source": [
    "## Evaluate the model\n",
    "pred_and_labels = log_reg_model.evaluate(test_data)\n",
    "pred_and_labels.predictions.show()"
   ]
  },
  {
   "cell_type": "code",
   "execution_count": 11,
   "id": "0f39eabd-15db-45ca-8483-d5a8f90d39e4",
   "metadata": {},
   "outputs": [
    {
     "data": {
      "text/plain": [
       "0.7456808943089431"
      ]
     },
     "execution_count": 11,
     "metadata": {},
     "output_type": "execute_result"
    }
   ],
   "source": [
    "## Check AUC\n",
    "churn_eval = BinaryClassificationEvaluator(rawPredictionCol='prediction', labelCol='churn')\n",
    "auc = churn_eval.evaluate(pred_and_labels.predictions)\n",
    "auc"
   ]
  },
  {
   "cell_type": "code",
   "execution_count": 12,
   "id": "16fa3770-177e-4f5b-b747-670b578c39f9",
   "metadata": {},
   "outputs": [],
   "source": [
    "## Model \"Deployment\"\n",
    "log_reg_model_final = log_reg.fit(final_data)"
   ]
  },
  {
   "cell_type": "code",
   "execution_count": 13,
   "id": "31843832-d819-4ea6-ac20-2656b39b2604",
   "metadata": {},
   "outputs": [
    {
     "name": "stdout",
     "output_type": "stream",
     "text": [
      "root\n",
      " |-- name: string (nullable = true)\n",
      " |-- age: double (nullable = true)\n",
      " |-- total_purchase: double (nullable = true)\n",
      " |-- account_manager: integer (nullable = true)\n",
      " |-- years: double (nullable = true)\n",
      " |-- num_sites: double (nullable = true)\n",
      " |-- onboard_date: timestamp (nullable = true)\n",
      " |-- location: string (nullable = true)\n",
      " |-- company: string (nullable = true)\n",
      " |-- churn: integer (nullable = true)\n",
      "\n"
     ]
    }
   ],
   "source": [
    "## Read in new data\n",
    "new_data = spark.read.csv('gs://spark-training-data/datasets/new_customers.csv', header=True,\n",
    "                          inferSchema=False, schema=schema)\n",
    "new_data.printSchema()"
   ]
  },
  {
   "cell_type": "code",
   "execution_count": 15,
   "id": "83b5c543-4999-4e1f-b8d0-35eee8416b2a",
   "metadata": {},
   "outputs": [
    {
     "name": "stdout",
     "output_type": "stream",
     "text": [
      "+--------------+----+--------------+---------------+-----+---------+-------------------+--------------------+----------------+-----+--------------------+\n",
      "|          name| age|total_purchase|account_manager|years|num_sites|       onboard_date|            location|         company|churn|            features|\n",
      "+--------------+----+--------------+---------------+-----+---------+-------------------+--------------------+----------------+-----+--------------------+\n",
      "| Andrew Mccall|37.0|       9935.53|              1| 7.71|      8.0|2011-08-29 18:37:54|38612 Johnny Stra...|        King Ltd| null|[37.0,9935.53,1.0...|\n",
      "|Michele Wright|23.0|       7526.94|              1| 9.28|     15.0|2013-07-22 18:19:54|21083 Nicole Junc...|   Cannon-Benson| null|[23.0,7526.94,1.0...|\n",
      "|  Jeremy Chang|65.0|         100.0|              1|  1.0|     15.0|2006-12-11 07:48:13|085 Austin Views ...|Barron-Robertson| null|[65.0,100.0,1.0,1...|\n",
      "|Megan Ferguson|32.0|        6487.5|              0|  9.4|     14.0|2016-10-28 05:32:13|922 Wright Branch...|   Sexton-Golden| null|[32.0,6487.5,0.0,...|\n",
      "|  Taylor Young|32.0|      13147.71|              1| 10.0|      8.0|2012-03-20 00:36:46|Unit 0789 Box 073...|        Wood LLC| null|[32.0,13147.71,1....|\n",
      "+--------------+----+--------------+---------------+-----+---------+-------------------+--------------------+----------------+-----+--------------------+\n",
      "only showing top 5 rows\n",
      "\n"
     ]
    }
   ],
   "source": [
    "## Transform the data\n",
    "new_data_assembled = assembler.transform(new_data)\n",
    "new_data_assembled.show(5)"
   ]
  },
  {
   "cell_type": "code",
   "execution_count": 16,
   "id": "3dfe4bf2-58f6-4da1-bda1-370cfc6698c1",
   "metadata": {},
   "outputs": [
    {
     "name": "stdout",
     "output_type": "stream",
     "text": [
      "+----------------+----------+\n",
      "|         company|prediction|\n",
      "+----------------+----------+\n",
      "|        King Ltd|       0.0|\n",
      "|   Cannon-Benson|       1.0|\n",
      "|Barron-Robertson|       1.0|\n",
      "|   Sexton-Golden|       1.0|\n",
      "|        Wood LLC|       0.0|\n",
      "|   Parks-Robbins|       1.0|\n",
      "+----------------+----------+\n",
      "\n"
     ]
    }
   ],
   "source": [
    "## Make Predictions\n",
    "new_data_predictions = log_reg_model_final.transform(new_data_assembled)\n",
    "new_data_predictions.select('company','prediction').show()"
   ]
  }
 ],
 "metadata": {
  "kernelspec": {
   "display_name": "Python 3",
   "language": "python",
   "name": "python3"
  },
  "language_info": {
   "codemirror_mode": {
    "name": "ipython",
    "version": 3
   },
   "file_extension": ".py",
   "mimetype": "text/x-python",
   "name": "python",
   "nbconvert_exporter": "python",
   "pygments_lexer": "ipython3",
   "version": "3.8.12"
  }
 },
 "nbformat": 4,
 "nbformat_minor": 5
}