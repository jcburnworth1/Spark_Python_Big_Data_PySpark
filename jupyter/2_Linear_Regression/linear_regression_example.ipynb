{
 "cells": [
  {
   "cell_type": "code",
   "execution_count": 38,
   "id": "7b0e8cc6-9740-4ec8-a213-50ceafa39ac1",
   "metadata": {},
   "outputs": [],
   "source": [
    "## Import Libraries\n",
    "from pyspark.sql import SparkSession\n",
    "from pyspark.ml.regression import LinearRegression\n",
    "\n",
    "## Set seed\n",
    "seed = 42"
   ]
  },
  {
   "cell_type": "code",
   "execution_count": 39,
   "id": "44ba225d-60fd-46d6-9433-0d8a29ce8ab6",
   "metadata": {},
   "outputs": [],
   "source": [
    "## Create Spark Session\n",
    "spark = SparkSession.builder.appName('lrExample').getOrCreate()"
   ]
  },
  {
   "cell_type": "code",
   "execution_count": 41,
   "id": "3ff9fe9d-5918-4118-9415-3186cabd5263",
   "metadata": {},
   "outputs": [
    {
     "name": "stderr",
     "output_type": "stream",
     "text": [
      "21/11/11 01:43:15 WARN org.apache.spark.ml.source.libsvm.LibSVMFileFormat: 'numFeatures' option not specified, determining the number of features by going though the input. If you know the number in advance, please specify it via 'numFeatures' option to avoid the extra scan.\n"
     ]
    },
    {
     "name": "stdout",
     "output_type": "stream",
     "text": [
      "+-------------------+--------------------+\n",
      "|              label|            features|\n",
      "+-------------------+--------------------+\n",
      "| -9.490009878824548|(10,[0,1,2,3,4,5,...|\n",
      "| 0.2577820163584905|(10,[0,1,2,3,4,5,...|\n",
      "| -4.438869807456516|(10,[0,1,2,3,4,5,...|\n",
      "|-19.782762789614537|(10,[0,1,2,3,4,5,...|\n",
      "| -7.966593841555266|(10,[0,1,2,3,4,5,...|\n",
      "+-------------------+--------------------+\n",
      "only showing top 5 rows\n",
      "\n"
     ]
    }
   ],
   "source": [
    "## Load Data - Note CSV is in libsvm format so must account for that\n",
    "df = spark.read.format('libsvm').load('gs://spark-training-data/datasets/sample_linear_regression_data.txt')\n",
    "df.show(5)"
   ]
  },
  {
   "cell_type": "code",
   "execution_count": 42,
   "id": "c7a431a9-946e-4031-82f1-67cb0887338c",
   "metadata": {},
   "outputs": [],
   "source": [
    "## Split into train / test data\n",
    "train_data, test_data = df.randomSplit([0.7, 0.3], seed=seed)"
   ]
  },
  {
   "cell_type": "code",
   "execution_count": 43,
   "id": "305bb2b2-e4c8-4ab3-a313-fcbeb8bca4de",
   "metadata": {},
   "outputs": [
    {
     "name": "stdout",
     "output_type": "stream",
     "text": [
      "+-------+-------------------+\n",
      "|summary|              label|\n",
      "+-------+-------------------+\n",
      "|  count|                375|\n",
      "|   mean|  0.724113021004657|\n",
      "| stddev|  9.982212130320981|\n",
      "|    min|-28.571478869743427|\n",
      "|    max|  27.78383192005107|\n",
      "+-------+-------------------+\n",
      "\n",
      "+-------+-------------------+\n",
      "|summary|              label|\n",
      "+-------+-------------------+\n",
      "|  count|                126|\n",
      "|   mean|-1.1336593885480712|\n",
      "| stddev| 11.184561422877946|\n",
      "|    min|-26.805483428483072|\n",
      "|    max|  23.52945433069272|\n",
      "+-------+-------------------+\n",
      "\n"
     ]
    }
   ],
   "source": [
    "## Show train & test data\n",
    "train_data.describe().show()\n",
    "test_data.describe().show()"
   ]
  },
  {
   "cell_type": "code",
   "execution_count": 44,
   "id": "6d0d48e5-6f51-4b00-be02-de6b6a09a45c",
   "metadata": {},
   "outputs": [
    {
     "name": "stderr",
     "output_type": "stream",
     "text": [
      "21/11/11 01:43:21 WARN org.apache.spark.ml.util.Instrumentation: [dc9a7acc] regParam is zero, which might cause numerical instability and overfitting.\n"
     ]
    }
   ],
   "source": [
    "## Setup Model Object & Fit\n",
    "lr = LinearRegression(featuresCol='features', labelCol='label', predictionCol='prediction')\n",
    "lrModel = lr.fit(train_data)"
   ]
  },
  {
   "cell_type": "code",
   "execution_count": 45,
   "id": "40b68beb-05d3-41d8-aeb7-e679b96f5628",
   "metadata": {},
   "outputs": [
    {
     "name": "stdout",
     "output_type": "stream",
     "text": [
      "Coeffs: [0.5918059154882541,1.5074485921726686,-2.092983672586816,3.2111914129063464,0.8256578885505846,1.8989010267402955,-0.06002242466251009,-0.922117578233245,-0.5657647948846599,1.147004045732437]\n",
      "Intercept: 0.5292901287039765\n",
      "R^2: 0.07273225877410616\n"
     ]
    }
   ],
   "source": [
    "## Show Model Values\n",
    "print(f'Coeffs: {lrModel.coefficients}')\n",
    "print(f'Intercept: {lrModel.intercept}')\n",
    "print(f'R^2: {lrModel.summary.r2}')"
   ]
  },
  {
   "cell_type": "code",
   "execution_count": 49,
   "id": "d9cadbae-8b9e-454d-921c-3a0323eb2255",
   "metadata": {},
   "outputs": [
    {
     "name": "stdout",
     "output_type": "stream",
     "text": [
      "+-------------------+\n",
      "|          residuals|\n",
      "+-------------------+\n",
      "|-28.305902730922302|\n",
      "|-29.490547492772325|\n",
      "| -22.86936529151847|\n",
      "|-21.527682553818114|\n",
      "|-19.687660427789638|\n",
      "+-------------------+\n",
      "only showing top 5 rows\n",
      "\n"
     ]
    }
   ],
   "source": [
    "## Evaluate Results\n",
    "test_results = lrModel.evaluate(test_data)\n",
    "test_results.residuals.show(5)"
   ]
  },
  {
   "cell_type": "code",
   "execution_count": 51,
   "id": "402075b8-8f23-4d8a-b0ae-31180d3f5468",
   "metadata": {},
   "outputs": [
    {
     "name": "stdout",
     "output_type": "stream",
     "text": [
      "+--------------------+\n",
      "|            features|\n",
      "+--------------------+\n",
      "|(10,[0,1,2,3,4,5,...|\n",
      "|(10,[0,1,2,3,4,5,...|\n",
      "|(10,[0,1,2,3,4,5,...|\n",
      "|(10,[0,1,2,3,4,5,...|\n",
      "|(10,[0,1,2,3,4,5,...|\n",
      "+--------------------+\n",
      "only showing top 5 rows\n",
      "\n"
     ]
    }
   ],
   "source": [
    "## Run model on unlabeled data\n",
    "unlabeled_data = test_data.select('features')\n",
    "unlabeled_data.show(5)"
   ]
  },
  {
   "cell_type": "code",
   "execution_count": 52,
   "id": "c21efe6f-c3fc-47f1-9c5b-7a7e4e2d7e3a",
   "metadata": {},
   "outputs": [
    {
     "name": "stdout",
     "output_type": "stream",
     "text": [
      "+--------------------+--------------------+\n",
      "|            features|          prediction|\n",
      "+--------------------+--------------------+\n",
      "|(10,[0,1,2,3,4,5,...|   1.500419302439231|\n",
      "|(10,[0,1,2,3,4,5,...|   6.540721556576252|\n",
      "|(10,[0,1,2,3,4,5,...|  1.4369775273526635|\n",
      "|(10,[0,1,2,3,4,5,...|  1.3156052948594428|\n",
      "|(10,[0,1,2,3,4,5,...|-0.09510236182489817|\n",
      "+--------------------+--------------------+\n",
      "only showing top 5 rows\n",
      "\n"
     ]
    }
   ],
   "source": [
    "## Predict Results\n",
    "predictions = lrModel.transform(unlabeled_data)\n",
    "predictions.show(5)"
   ]
  },
  {
   "cell_type": "code",
   "execution_count": 54,
   "id": "a8b47756-c643-44db-ba8c-608d4534df32",
   "metadata": {},
   "outputs": [
    {
     "name": "stdout",
     "output_type": "stream",
     "text": [
      "+-------------------+--------------------+--------------------+\n",
      "|              label|            features|          prediction|\n",
      "+-------------------+--------------------+--------------------+\n",
      "|-26.805483428483072|(10,[0,1,2,3,4,5,...|   1.500419302439231|\n",
      "|-22.949825936196074|(10,[0,1,2,3,4,5,...|   6.540721556576252|\n",
      "|-21.432387764165806|(10,[0,1,2,3,4,5,...|  1.4369775273526635|\n",
      "|-20.212077258958672|(10,[0,1,2,3,4,5,...|  1.3156052948594428|\n",
      "|-19.782762789614537|(10,[0,1,2,3,4,5,...|-0.09510236182489817|\n",
      "+-------------------+--------------------+--------------------+\n",
      "only showing top 5 rows\n",
      "\n"
     ]
    }
   ],
   "source": [
    "## Show predictions from eval - Predictions should match\n",
    "test_results.predictions.show(5)"
   ]
  },
  {
   "cell_type": "code",
   "execution_count": 65,
   "id": "4de5f977-2984-4809-a669-b4d96d194b6e",
   "metadata": {},
   "outputs": [
    {
     "name": "stderr",
     "output_type": "stream",
     "text": [
      "                                                                                \r"
     ]
    }
   ],
   "source": [
    "## Save model to GCS\n",
    "# LinearRegression.save(lrModel, 'gs://spark-training-data/ml_models/sample_model.model')\n",
    "lrModel.save('gs://spark-training-data/ml_models/sample_model.model')"
   ]
  },
  {
   "cell_type": "code",
   "execution_count": 67,
   "id": "94068317-cf91-434d-9a06-a7eb1788dece",
   "metadata": {},
   "outputs": [],
   "source": [
    "## Load model\n",
    "sameModel = LinearRegressionModel.load('gs://spark-training-data/ml_models/sample_model.model')"
   ]
  },
  {
   "cell_type": "code",
   "execution_count": 74,
   "id": "7f6ec5c4-0722-4857-9e3b-88fdc8efe991",
   "metadata": {},
   "outputs": [
    {
     "name": "stdout",
     "output_type": "stream",
     "text": [
      "+-------------------+--------------------+--------------------+\n",
      "|              label|            features|          prediction|\n",
      "+-------------------+--------------------+--------------------+\n",
      "|-26.805483428483072|(10,[0,1,2,3,4,5,...|   1.500419302439231|\n",
      "|-22.949825936196074|(10,[0,1,2,3,4,5,...|   6.540721556576252|\n",
      "|-21.432387764165806|(10,[0,1,2,3,4,5,...|  1.4369775273526635|\n",
      "|-20.212077258958672|(10,[0,1,2,3,4,5,...|  1.3156052948594428|\n",
      "|-19.782762789614537|(10,[0,1,2,3,4,5,...|-0.09510236182489817|\n",
      "+-------------------+--------------------+--------------------+\n",
      "only showing top 5 rows\n",
      "\n",
      "+-------------------+--------------------+--------------------+\n",
      "|              label|            features|          prediction|\n",
      "+-------------------+--------------------+--------------------+\n",
      "|-26.805483428483072|(10,[0,1,2,3,4,5,...|   1.500419302439231|\n",
      "|-22.949825936196074|(10,[0,1,2,3,4,5,...|   6.540721556576252|\n",
      "|-21.432387764165806|(10,[0,1,2,3,4,5,...|  1.4369775273526635|\n",
      "|-20.212077258958672|(10,[0,1,2,3,4,5,...|  1.3156052948594428|\n",
      "|-19.782762789614537|(10,[0,1,2,3,4,5,...|-0.09510236182489817|\n",
      "+-------------------+--------------------+--------------------+\n",
      "only showing top 5 rows\n",
      "\n"
     ]
    }
   ],
   "source": [
    "## Check Saves Model matches initial model\n",
    "test_results_same = sameModel.evaluate(test_data)\n",
    "test_results_same.predictions.show(5)\n",
    "\n",
    "test_results.predictions.show(5)"
   ]
  }
 ],
 "metadata": {
  "kernelspec": {
   "display_name": "PySpark",
   "language": "python",
   "name": "pyspark"
  },
  "language_info": {
   "codemirror_mode": {
    "name": "ipython",
    "version": 3
   },
   "file_extension": ".py",
   "mimetype": "text/x-python",
   "name": "python",
   "nbconvert_exporter": "python",
   "pygments_lexer": "ipython3",
   "version": "3.8.12"
  }
 },
 "nbformat": 4,
 "nbformat_minor": 5
}