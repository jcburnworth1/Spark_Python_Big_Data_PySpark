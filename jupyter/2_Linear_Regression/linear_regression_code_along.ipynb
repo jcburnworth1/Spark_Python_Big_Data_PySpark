{
 "cells": [
  {
   "cell_type": "code",
   "execution_count": 1,
   "id": "282ab655-ed10-4915-ab0a-3730e6474c32",
   "metadata": {},
   "outputs": [],
   "source": [
    "## Import Libraries\n",
    "from pyspark.sql import SparkSession\n",
    "from pyspark.ml.linalg import Vectors\n",
    "from pyspark.ml.feature import VectorAssembler # numerical columns to vectors before modeling\n",
    "from pyspark.sql.types import StructType, StructField, StringType, DoubleType\n",
    "from pyspark.ml.regression import LinearRegression\n",
    "\n",
    "## Set seed\n",
    "seed = 42"
   ]
  },
  {
   "cell_type": "code",
   "execution_count": 2,
   "id": "9de432e3-3993-4e0a-86d6-1fb3aa10b4b3",
   "metadata": {},
   "outputs": [],
   "source": [
    "## Create Spark Session\n",
    "spark = SparkSession.builder.appName('lrCodeAlong').getOrCreate()"
   ]
  },
  {
   "cell_type": "code",
   "execution_count": 3,
   "id": "afddb9ae-d66d-4757-a18a-23685f7343e4",
   "metadata": {},
   "outputs": [],
   "source": [
    "## Setup Schema\n",
    "schema = StructType(fields=[StructField('email', StringType(), True),\n",
    "                            StructField('address', StringType(), True),\n",
    "                            StructField('avatar', StringType(), True),\n",
    "                            StructField('avg_session_length_min', DoubleType(), True),\n",
    "                            StructField('time_on_app', DoubleType(), True),\n",
    "                            StructField('time_on_site', DoubleType(), True),\n",
    "                            StructField('length_of_membership', DoubleType(), True),\n",
    "                            StructField('yearly_amount_spent', DoubleType(), True)])"
   ]
  },
  {
   "cell_type": "code",
   "execution_count": 4,
   "id": "439c9183-7bfd-4546-8a4c-251f654c664b",
   "metadata": {},
   "outputs": [
    {
     "name": "stderr",
     "output_type": "stream",
     "text": [
      "[Stage 0:>                                                          (0 + 1) / 1]\r"
     ]
    },
    {
     "name": "stdout",
     "output_type": "stream",
     "text": [
      "+--------------------+--------------------+----------------+----------------------+------------------+------------------+--------------------+-------------------+\n",
      "|               email|             address|          avatar|avg_session_length_min|       time_on_app|      time_on_site|length_of_membership|yearly_amount_spent|\n",
      "+--------------------+--------------------+----------------+----------------------+------------------+------------------+--------------------+-------------------+\n",
      "|mstephenson@ferna...|835 Frank TunnelW...|          Violet|     34.49726772511229| 12.65565114916675| 39.57766801952616|  4.0826206329529615|  587.9510539684005|\n",
      "|   hduke@hotmail.com|4547 Archer Commo...|       DarkGreen|     31.92627202636016|11.109460728682564|37.268958868297744|    2.66403418213262|  392.2049334443264|\n",
      "|    pallen@yahoo.com|24645 Valerie Uni...|          Bisque|    33.000914755642675|11.330278057777512|37.110597442120856|   4.104543202376424| 487.54750486747207|\n",
      "|riverarebecca@gma...|1414 David Throug...|     SaddleBrown|     34.30555662975554|13.717513665142507| 36.72128267790313|   3.120178782748092|  581.8523440352177|\n",
      "|mstephens@davidso...|14023 Rodriguez P...|MediumAquaMarine|     33.33067252364639|12.795188551078114| 37.53665330059473|   4.446308318351434|  599.4060920457634|\n",
      "+--------------------+--------------------+----------------+----------------------+------------------+------------------+--------------------+-------------------+\n",
      "only showing top 5 rows\n",
      "\n"
     ]
    },
    {
     "name": "stderr",
     "output_type": "stream",
     "text": [
      "                                                                                \r"
     ]
    }
   ],
   "source": [
    "## Load Data\n",
    "df = spark.read.csv('gs://spark-training-data/datasets/Ecommerce_Customers.csv', inferSchema=False,\n",
    "                    header=True, schema=schema)\n",
    "df.show(5)"
   ]
  },
  {
   "cell_type": "code",
   "execution_count": 5,
   "id": "3b095c66-8024-4939-8b69-48e6c8a8cdfb",
   "metadata": {},
   "outputs": [
    {
     "name": "stdout",
     "output_type": "stream",
     "text": [
      "root\n",
      " |-- email: string (nullable = true)\n",
      " |-- address: string (nullable = true)\n",
      " |-- avatar: string (nullable = true)\n",
      " |-- avg_session_length_min: double (nullable = true)\n",
      " |-- time_on_app: double (nullable = true)\n",
      " |-- time_on_site: double (nullable = true)\n",
      " |-- length_of_membership: double (nullable = true)\n",
      " |-- yearly_amount_spent: double (nullable = true)\n",
      "\n"
     ]
    },
    {
     "data": {
      "text/plain": [
       "['email',\n",
       " 'address',\n",
       " 'avatar',\n",
       " 'avg_session_length_min',\n",
       " 'time_on_app',\n",
       " 'time_on_site',\n",
       " 'length_of_membership',\n",
       " 'yearly_amount_spent']"
      ]
     },
     "execution_count": 5,
     "metadata": {},
     "output_type": "execute_result"
    }
   ],
   "source": [
    "## Confirm Proper Schema & Cols\n",
    "df.printSchema()\n",
    "df.columns"
   ]
  },
  {
   "cell_type": "code",
   "execution_count": 7,
   "id": "4564c64b-6924-431b-be9e-cbc823cf8160",
   "metadata": {},
   "outputs": [
    {
     "name": "stderr",
     "output_type": "stream",
     "text": [
      "                                                                                \r"
     ]
    },
    {
     "data": {
      "text/plain": [
       "[Row(email='mstephenson@fernandez.com', address='835 Frank TunnelWrightmouth, MI 82180-9605', avatar='Violet', avg_session_length_min=34.49726772511229, time_on_app=12.65565114916675, time_on_site=39.57766801952616, length_of_membership=4.0826206329529615, yearly_amount_spent=587.9510539684005, features=DenseVector([34.4973, 12.6557]))]"
      ]
     },
     "execution_count": 7,
     "metadata": {},
     "output_type": "execute_result"
    }
   ],
   "source": [
    "## Create Vector Assembler & transform data\n",
    "assembler = VectorAssembler(inputCols=['avg_session_length_min','time_on_app'],\n",
    "                            outputCol='features')\n",
    "output_features = assembler.transform(df)\n",
    "output_features.head(1) # Vector of numerical values we will be modeling on - Spark expects this"
   ]
  },
  {
   "cell_type": "code",
   "execution_count": 9,
   "id": "f1c8eb68-04d0-4e91-a2a2-0c04e8ed3543",
   "metadata": {},
   "outputs": [
    {
     "name": "stderr",
     "output_type": "stream",
     "text": [
      "[Stage 2:>                                                          (0 + 1) / 1]\r"
     ]
    },
    {
     "name": "stdout",
     "output_type": "stream",
     "text": [
      "+--------------------+-------------------+\n",
      "|            features|yearly_amount_spent|\n",
      "+--------------------+-------------------+\n",
      "|[34.4972677251122...|  587.9510539684005|\n",
      "|[31.9262720263601...|  392.2049334443264|\n",
      "|[33.0009147556426...| 487.54750486747207|\n",
      "|[34.3055566297555...|  581.8523440352177|\n",
      "|[33.3306725236463...|  599.4060920457634|\n",
      "+--------------------+-------------------+\n",
      "only showing top 5 rows\n",
      "\n"
     ]
    },
    {
     "name": "stderr",
     "output_type": "stream",
     "text": [
      "                                                                                \r"
     ]
    }
   ],
   "source": [
    "## Prep data - Grab only features and target column\n",
    "final_data = output_features.select(['features', 'yearly_amount_spent'])\n",
    "final_data.show(5)"
   ]
  },
  {
   "cell_type": "code",
   "execution_count": 10,
   "id": "3abe226f-0787-4df4-84ec-bf9c320812c6",
   "metadata": {},
   "outputs": [
    {
     "name": "stderr",
     "output_type": "stream",
     "text": [
      "                                                                                \r"
     ]
    },
    {
     "name": "stdout",
     "output_type": "stream",
     "text": [
      "+-------+-------------------+\n",
      "|summary|yearly_amount_spent|\n",
      "+-------+-------------------+\n",
      "|  count|                374|\n",
      "|   mean| 499.78515710377627|\n",
      "| stddev|  79.76963867632105|\n",
      "|    min| 256.67058229005585|\n",
      "|    max|  765.5184619388373|\n",
      "+-------+-------------------+\n",
      "\n",
      "+-------+-------------------+\n",
      "|summary|yearly_amount_spent|\n",
      "+-------+-------------------+\n",
      "|  count|                126|\n",
      "|   mean|  497.9156378768501|\n",
      "| stddev|  78.24705567534872|\n",
      "|    min|  282.4712457199145|\n",
      "|    max|  744.2218671047146|\n",
      "+-------+-------------------+\n",
      "\n"
     ]
    }
   ],
   "source": [
    "## Split data into train / test\n",
    "train_data, test_data = final_data.randomSplit([0.7, 0.3], seed=seed)\n",
    "train_data.describe().show()\n",
    "test_data.describe().show()"
   ]
  },
  {
   "cell_type": "code",
   "execution_count": 16,
   "id": "3152b66d-be02-4846-b076-bbc16682ca1c",
   "metadata": {},
   "outputs": [
    {
     "name": "stderr",
     "output_type": "stream",
     "text": [
      "21/11/15 20:55:36 WARN org.apache.spark.ml.util.Instrumentation: [1840ad2c] regParam is zero, which might cause numerical instability and overfitting.\n"
     ]
    }
   ],
   "source": [
    "## Build linear regression model\n",
    "lr = LinearRegression(labelCol='yearly_amount_spent', featuresCol='features', predictionCol='prediction')\n",
    "lr_model = lr.fit(train_data)"
   ]
  },
  {
   "cell_type": "code",
   "execution_count": 19,
   "id": "34ae1996-8141-4715-a978-42d089a01021",
   "metadata": {},
   "outputs": [],
   "source": [
    "## Evaluate Model Accuracy\n",
    "train_results = lr_model.evaluate(train_data)\n",
    "test_results = lr_model.evaluate(test_data)"
   ]
  },
  {
   "cell_type": "code",
   "execution_count": 21,
   "id": "2ef2d665-f5d2-4a0c-8034-f5572295b07b",
   "metadata": {},
   "outputs": [
    {
     "name": "stdout",
     "output_type": "stream",
     "text": [
      "Train R^2: 0.3822976041111297\n",
      "Test R^2: 0.38489596969993145\n"
     ]
    }
   ],
   "source": [
    "## Show Model Values\n",
    "print(f'Train R^2: {train_results.r2}')\n",
    "print(f'Test R^2: {test_results.r2}')"
   ]
  },
  {
   "cell_type": "code",
   "execution_count": 24,
   "id": "c82d3f79-4695-410c-a3fb-52c0f06ea168",
   "metadata": {},
   "outputs": [
    {
     "name": "stdout",
     "output_type": "stream",
     "text": [
      "+--------------------+\n",
      "|            features|\n",
      "+--------------------+\n",
      "|[30.4925366965402...|\n",
      "|[30.8364326747734...|\n",
      "|[30.9716756438877...|\n",
      "|[31.0472221394875...|\n",
      "|[31.1280900496166...|\n",
      "+--------------------+\n",
      "only showing top 5 rows\n",
      "\n"
     ]
    }
   ],
   "source": [
    "##### Mock Model Deployment #####\n",
    "unlabeled_data = test_data.select('features') # Get \"unlabeled\" data\n",
    "unlabeled_data.show(5)"
   ]
  },
  {
   "cell_type": "code",
   "execution_count": 25,
   "id": "14257705-f997-441c-97d6-47148001703a",
   "metadata": {},
   "outputs": [
    {
     "name": "stdout",
     "output_type": "stream",
     "text": [
      "+--------------------+------------------+\n",
      "|            features|        prediction|\n",
      "+--------------------+------------------+\n",
      "|[30.4925366965402...| 410.5278154435233|\n",
      "|[30.8364326747734...|485.69919521812733|\n",
      "|[30.9716756438877...| 430.3727231212241|\n",
      "|[31.0472221394875...|409.48563848490505|\n",
      "|[31.1280900496166...|    501.0623797646|\n",
      "+--------------------+------------------+\n",
      "only showing top 5 rows\n",
      "\n"
     ]
    }
   ],
   "source": [
    "## Model predictions\n",
    "predictions = lr_model.transform(unlabeled_data)\n",
    "predictions.show(5)"
   ]
  },
  {
   "cell_type": "code",
   "execution_count": null,
   "id": "820f7260-7c2e-4060-aa6b-01d9aeb7e41e",
   "metadata": {},
   "outputs": [],
   "source": []
  }
 ],
 "metadata": {
  "kernelspec": {
   "display_name": "PySpark",
   "language": "python",
   "name": "pyspark"
  },
  "language_info": {
   "codemirror_mode": {
    "name": "ipython",
    "version": 3
   },
   "file_extension": ".py",
   "mimetype": "text/x-python",
   "name": "python",
   "nbconvert_exporter": "python",
   "pygments_lexer": "ipython3",
   "version": "3.8.12"
  }
 },
 "nbformat": 4,
 "nbformat_minor": 5
}