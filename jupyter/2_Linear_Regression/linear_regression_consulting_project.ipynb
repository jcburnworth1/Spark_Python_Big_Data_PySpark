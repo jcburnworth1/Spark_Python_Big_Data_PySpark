{
 "cells": [
  {
   "cell_type": "code",
   "execution_count": 1,
   "id": "cc783b95-6f4c-4f8a-ab73-8bb8f9d7361c",
   "metadata": {},
   "outputs": [],
   "source": [
    "## Import Libraries\n",
    "from pyspark.sql import SparkSession\n",
    "from pyspark.ml.linalg import Vectors\n",
    "from pyspark.ml.feature import VectorAssembler, StringIndexer\n",
    "from pyspark.sql.types import StructType, StructField, StringType, DoubleType, IntegerType\n",
    "from pyspark.ml.regression import LinearRegression\n",
    "\n",
    "## Set seed\n",
    "seed = 42"
   ]
  },
  {
   "cell_type": "code",
   "execution_count": 2,
   "id": "debaa7d5-65af-4c56-9ee8-579e1557b5c4",
   "metadata": {},
   "outputs": [],
   "source": [
    "## Create Spark Session\n",
    "spark = SparkSession.builder.appName('lrConsProject').getOrCreate()"
   ]
  },
  {
   "cell_type": "code",
   "execution_count": 3,
   "id": "0bb5a7e9-ec5f-45ae-beaf-d8139045aa15",
   "metadata": {},
   "outputs": [],
   "source": [
    "## Setup Schema\n",
    "schema = StructType(fields=[StructField('ship_name', StringType(), True),\n",
    "                            StructField('cruise_line', StringType(), True),\n",
    "                            StructField('age', IntegerType(), True),\n",
    "                            StructField('tonnage', DoubleType(), True),\n",
    "                            StructField('passengers', DoubleType(), True),\n",
    "                            StructField('length', DoubleType(), True),\n",
    "                            StructField('cabins', DoubleType(), True),\n",
    "                            StructField('passenger_density', DoubleType(), True),\n",
    "                            StructField('crew', DoubleType(), True)])"
   ]
  },
  {
   "cell_type": "code",
   "execution_count": 4,
   "id": "f6c59471-e7da-48db-906a-f5c32424a14e",
   "metadata": {},
   "outputs": [
    {
     "name": "stderr",
     "output_type": "stream",
     "text": [
      "[Stage 0:>                                                          (0 + 1) / 1]\r"
     ]
    },
    {
     "name": "stdout",
     "output_type": "stream",
     "text": [
      "+-----------+-----------+---+------------------+----------+------+------+-----------------+----+\n",
      "|  ship_name|cruise_line|age|           tonnage|passengers|length|cabins|passenger_density|crew|\n",
      "+-----------+-----------+---+------------------+----------+------+------+-----------------+----+\n",
      "|    Journey|    Azamara|  6|30.276999999999997|      6.94|  5.94|  3.55|            42.64|3.55|\n",
      "|      Quest|    Azamara|  6|30.276999999999997|      6.94|  5.94|  3.55|            42.64|3.55|\n",
      "|Celebration|   Carnival| 26|            47.262|     14.86|  7.22|  7.43|             31.8| 6.7|\n",
      "|   Conquest|   Carnival| 11|             110.0|     29.74|  9.53| 14.88|            36.99|19.1|\n",
      "|    Destiny|   Carnival| 17|           101.353|     26.42|  8.92| 13.21|            38.36|10.0|\n",
      "+-----------+-----------+---+------------------+----------+------+------+-----------------+----+\n",
      "only showing top 5 rows\n",
      "\n"
     ]
    },
    {
     "name": "stderr",
     "output_type": "stream",
     "text": [
      "                                                                                \r"
     ]
    }
   ],
   "source": [
    "## Load Data\n",
    "df = spark.read.csv('gs://spark-training-data/datasets/cruise_ship_info.csv', inferSchema=False,\n",
    "                    header=True, schema=schema)\n",
    "df.show(5)"
   ]
  },
  {
   "cell_type": "code",
   "execution_count": 5,
   "id": "e6f4ad72-a449-40cb-90c7-7a4c8d3bc2a1",
   "metadata": {},
   "outputs": [
    {
     "name": "stdout",
     "output_type": "stream",
     "text": [
      "root\n",
      " |-- ship_name: string (nullable = true)\n",
      " |-- cruise_line: string (nullable = true)\n",
      " |-- age: integer (nullable = true)\n",
      " |-- tonnage: double (nullable = true)\n",
      " |-- passengers: double (nullable = true)\n",
      " |-- length: double (nullable = true)\n",
      " |-- cabins: double (nullable = true)\n",
      " |-- passenger_density: double (nullable = true)\n",
      " |-- crew: double (nullable = true)\n",
      "\n"
     ]
    },
    {
     "data": {
      "text/plain": [
       "['ship_name',\n",
       " 'cruise_line',\n",
       " 'age',\n",
       " 'tonnage',\n",
       " 'passengers',\n",
       " 'length',\n",
       " 'cabins',\n",
       " 'passenger_density',\n",
       " 'crew']"
      ]
     },
     "execution_count": 5,
     "metadata": {},
     "output_type": "execute_result"
    }
   ],
   "source": [
    "## Confirm Proper Schema & Cols\n",
    "df.printSchema()\n",
    "df.columns"
   ]
  },
  {
   "cell_type": "code",
   "execution_count": 6,
   "id": "a290fa81-1c89-4452-907f-92b9c8f66082",
   "metadata": {},
   "outputs": [
    {
     "name": "stderr",
     "output_type": "stream",
     "text": [
      "                                                                                \r"
     ]
    },
    {
     "name": "stdout",
     "output_type": "stream",
     "text": [
      "+-----------+-----------+---+------------------+----------+------+------+-----------------+----+-----------------+\n",
      "|  ship_name|cruise_line|age|           tonnage|passengers|length|cabins|passenger_density|crew|cruise_line_index|\n",
      "+-----------+-----------+---+------------------+----------+------+------+-----------------+----+-----------------+\n",
      "|    Journey|    Azamara|  6|30.276999999999997|      6.94|  5.94|  3.55|            42.64|3.55|             16.0|\n",
      "|      Quest|    Azamara|  6|30.276999999999997|      6.94|  5.94|  3.55|            42.64|3.55|             16.0|\n",
      "|Celebration|   Carnival| 26|            47.262|     14.86|  7.22|  7.43|             31.8| 6.7|              1.0|\n",
      "|   Conquest|   Carnival| 11|             110.0|     29.74|  9.53| 14.88|            36.99|19.1|              1.0|\n",
      "|    Destiny|   Carnival| 17|           101.353|     26.42|  8.92| 13.21|            38.36|10.0|              1.0|\n",
      "+-----------+-----------+---+------------------+----------+------+------+-----------------+----+-----------------+\n",
      "only showing top 5 rows\n",
      "\n"
     ]
    }
   ],
   "source": [
    "## Convert cruise_line to indexed value using StringIndexer\n",
    "indexer = StringIndexer(inputCol='cruise_line', outputCol='cruise_line_index')\n",
    "df_indexed = indexer.fit(df).transform(df)\n",
    "df_indexed.show(5)"
   ]
  },
  {
   "cell_type": "code",
   "execution_count": 7,
   "id": "64166c65-2e93-4c38-83dc-3052ba62e083",
   "metadata": {},
   "outputs": [
    {
     "name": "stderr",
     "output_type": "stream",
     "text": [
      "                                                                                \r"
     ]
    },
    {
     "data": {
      "text/plain": [
       "[Row(ship_name='Journey', cruise_line='Azamara', age=6, tonnage=30.276999999999997, passengers=6.94, length=5.94, cabins=3.55, passenger_density=42.64, crew=3.55, cruise_line_index=16.0, features=DenseVector([6.0, 30.277, 6.94, 5.94, 3.55, 42.64, 16.0]))]"
      ]
     },
     "execution_count": 7,
     "metadata": {},
     "output_type": "execute_result"
    }
   ],
   "source": [
    "## Create Vector Assembler & transform data for modeling\n",
    "assembler_all = VectorAssembler(inputCols=['age','tonnage','passengers','length','cabins',\n",
    "                                           'passenger_density','cruise_line_index'], outputCol='features')\n",
    "output_features_all = assembler_all.transform(df_indexed)\n",
    "output_features_all.head(1) # Vector of numerical values we will be modeling on - Spark expects this"
   ]
  },
  {
   "cell_type": "code",
   "execution_count": 8,
   "id": "a63f9710-642e-4dfc-84b7-84f5e8f98b4e",
   "metadata": {},
   "outputs": [
    {
     "name": "stdout",
     "output_type": "stream",
     "text": [
      "+--------------------+----+\n",
      "|            features|crew|\n",
      "+--------------------+----+\n",
      "|[6.0,30.276999999...|3.55|\n",
      "|[6.0,30.276999999...|3.55|\n",
      "|[26.0,47.262,14.8...| 6.7|\n",
      "|[11.0,110.0,29.74...|19.1|\n",
      "|[17.0,101.353,26....|10.0|\n",
      "+--------------------+----+\n",
      "only showing top 5 rows\n",
      "\n"
     ]
    }
   ],
   "source": [
    "## Prep data - Grab only features and target column\n",
    "final_data_all = output_features_all.select(['features', 'crew'])\n",
    "final_data_all.show(5)"
   ]
  },
  {
   "cell_type": "code",
   "execution_count": 9,
   "id": "868b5b29-56b7-418f-b642-005a5d46a90b",
   "metadata": {},
   "outputs": [
    {
     "name": "stderr",
     "output_type": "stream",
     "text": [
      "                                                                                \r"
     ]
    },
    {
     "name": "stdout",
     "output_type": "stream",
     "text": [
      "+-------+------------------+\n",
      "|summary|              crew|\n",
      "+-------+------------------+\n",
      "|  count|               110|\n",
      "|   mean| 7.538818181818191|\n",
      "| stddev|3.7889277929052527|\n",
      "|    min|              0.59|\n",
      "|    max|              21.0|\n",
      "+-------+------------------+\n",
      "\n",
      "+-------+------------------+\n",
      "|summary|              crew|\n",
      "+-------+------------------+\n",
      "|  count|                48|\n",
      "|   mean| 8.379375000000001|\n",
      "| stddev|2.6843584805550207|\n",
      "|    min|              3.55|\n",
      "|    max|              13.6|\n",
      "+-------+------------------+\n",
      "\n"
     ]
    }
   ],
   "source": [
    "## Split data into train / test\n",
    "train_data_all, test_data_all = final_data_all.randomSplit([0.7, 0.3], seed=seed)\n",
    "train_data_all.describe().show()\n",
    "test_data_all.describe().show()"
   ]
  },
  {
   "cell_type": "code",
   "execution_count": 10,
   "id": "314b0107-3e5c-4392-ab72-7e4e1ec4afeb",
   "metadata": {},
   "outputs": [
    {
     "name": "stderr",
     "output_type": "stream",
     "text": [
      "21/11/23 15:44:15 WARN org.apache.spark.ml.util.Instrumentation: [295be801] regParam is zero, which might cause numerical instability and overfitting.\n",
      "21/11/23 15:44:16 WARN com.github.fommil.netlib.BLAS: Failed to load implementation from: com.github.fommil.netlib.NativeSystemBLAS\n",
      "21/11/23 15:44:16 WARN com.github.fommil.netlib.BLAS: Failed to load implementation from: com.github.fommil.netlib.NativeRefBLAS\n",
      "21/11/23 15:44:16 WARN com.github.fommil.netlib.LAPACK: Failed to load implementation from: com.github.fommil.netlib.NativeSystemLAPACK\n",
      "21/11/23 15:44:16 WARN com.github.fommil.netlib.LAPACK: Failed to load implementation from: com.github.fommil.netlib.NativeRefLAPACK\n",
      "                                                                                \r"
     ]
    }
   ],
   "source": [
    "## Build linear regression model\n",
    "lr = LinearRegression(labelCol='crew', featuresCol='features', predictionCol='prediction')\n",
    "lr_model_all = lr.fit(train_data_all)"
   ]
  },
  {
   "cell_type": "code",
   "execution_count": 11,
   "id": "cf435e54-03c3-4363-8c27-76e766e3285d",
   "metadata": {},
   "outputs": [],
   "source": [
    "## Evaluate Model Accuracy\n",
    "train_results_all = lr_model_all.evaluate(train_data_all)\n",
    "test_results_all = lr_model_all.evaluate(test_data_all)"
   ]
  },
  {
   "cell_type": "code",
   "execution_count": 12,
   "id": "22872046-b0b7-418d-8f20-2a42be909e1f",
   "metadata": {},
   "outputs": [
    {
     "name": "stdout",
     "output_type": "stream",
     "text": [
      "Train R^2: 0.9253832482880808 & R^2 Adj.: 0.920262490817655\n",
      "Test R^2: 0.9241500945990748 & R^2 Adj.: 0.9108763611539129\n"
     ]
    }
   ],
   "source": [
    "## Show Model Values\n",
    "print(f'Train R^2: {train_results_all.r2} & R^2 Adj.: {train_results_all.r2adj}')\n",
    "print(f'Test R^2: {test_results_all.r2} & R^2 Adj.: {test_results_all.r2adj}')"
   ]
  },
  {
   "cell_type": "code",
   "execution_count": 13,
   "id": "baad538d-9efe-4a29-ae89-4f8e33013fcb",
   "metadata": {},
   "outputs": [
    {
     "name": "stdout",
     "output_type": "stream",
     "text": [
      "(0.31699735845888855, False)\n",
      "(0.7039341525637155, False)\n",
      "(0.010249985527425176, True)\n",
      "(0.0015243196734100461, True)\n",
      "(5.691003224228552e-13, True)\n",
      "(0.6413383982278091, False)\n",
      "(0.042687684449079555, True)\n",
      "(0.4240276781005119, False)\n"
     ]
    }
   ],
   "source": [
    "## Review p-values of columns\n",
    "## Removing age, tonnage, passenger_density since not significant\n",
    "for each in zip(lr_model_all.summary.pValues, [val <= 0.05 for val in lr_model_all.summary.pValues]):\n",
    "    print(each)"
   ]
  },
  {
   "cell_type": "code",
   "execution_count": 14,
   "id": "66ed3865-46b7-44b9-a5ee-c2cc3a70902a",
   "metadata": {},
   "outputs": [
    {
     "data": {
      "text/plain": [
       "[Row(ship_name='Journey', cruise_line='Azamara', age=6, tonnage=30.276999999999997, passengers=6.94, length=5.94, cabins=3.55, passenger_density=42.64, crew=3.55, cruise_line_index=16.0, features=DenseVector([6.94, 5.94, 3.55, 16.0]))]"
      ]
     },
     "execution_count": 14,
     "metadata": {},
     "output_type": "execute_result"
    }
   ],
   "source": [
    "## Reduced Model\n",
    "## Create Vector Assembler & transform data for modeling\n",
    "assembler_reduced = VectorAssembler(inputCols=['passengers','length','cabins','cruise_line_index'], outputCol='features')\n",
    "output_features_reduced = assembler_reduced.transform(df_indexed)\n",
    "output_features_reduced.head(1) # Vector of numerical values we will be modeling on - Spark expects this"
   ]
  },
  {
   "cell_type": "code",
   "execution_count": 15,
   "id": "6a718c4c-ff91-4f00-b884-df1a0a576fc9",
   "metadata": {},
   "outputs": [
    {
     "name": "stdout",
     "output_type": "stream",
     "text": [
      "+--------------------+----+\n",
      "|            features|crew|\n",
      "+--------------------+----+\n",
      "|[6.94,5.94,3.55,1...|3.55|\n",
      "|[6.94,5.94,3.55,1...|3.55|\n",
      "|[14.86,7.22,7.43,...| 6.7|\n",
      "|[29.74,9.53,14.88...|19.1|\n",
      "|[26.42,8.92,13.21...|10.0|\n",
      "+--------------------+----+\n",
      "only showing top 5 rows\n",
      "\n"
     ]
    }
   ],
   "source": [
    "## Prep data - Grab only features and target column\n",
    "final_data_reduced = output_features_reduced.select(['features', 'crew'])\n",
    "final_data_reduced.show(5)"
   ]
  },
  {
   "cell_type": "code",
   "execution_count": 16,
   "id": "d4a72b0f-9d10-4938-8b40-7527b56670db",
   "metadata": {},
   "outputs": [
    {
     "name": "stdout",
     "output_type": "stream",
     "text": [
      "+-------+------------------+\n",
      "|summary|              crew|\n",
      "+-------+------------------+\n",
      "|  count|               110|\n",
      "|   mean| 8.252818181818185|\n",
      "| stddev|3.4895135519186895|\n",
      "|    min|              0.59|\n",
      "|    max|              21.0|\n",
      "+-------+------------------+\n",
      "\n",
      "+-------+----------------+\n",
      "|summary|            crew|\n",
      "+-------+----------------+\n",
      "|  count|              48|\n",
      "|   mean|        6.743125|\n",
      "| stddev|3.33791255717727|\n",
      "|    min|             0.6|\n",
      "|    max|            13.6|\n",
      "+-------+----------------+\n",
      "\n"
     ]
    }
   ],
   "source": [
    "## Split data into train / test\n",
    "train_data_reduced, test_data_reduced = final_data_reduced.randomSplit([0.7, 0.3], seed=seed)\n",
    "train_data_reduced.describe().show()\n",
    "test_data_reduced.describe().show()"
   ]
  },
  {
   "cell_type": "code",
   "execution_count": 17,
   "id": "d870698b-fd84-413b-a593-8797483915c6",
   "metadata": {},
   "outputs": [
    {
     "name": "stderr",
     "output_type": "stream",
     "text": [
      "21/11/23 15:56:30 WARN org.apache.spark.ml.util.Instrumentation: [389a117c] regParam is zero, which might cause numerical instability and overfitting.\n"
     ]
    }
   ],
   "source": [
    "## Build linear regression model\n",
    "lr_reduced = LinearRegression(labelCol='crew', featuresCol='features', predictionCol='prediction')\n",
    "lr_model_reduced = lr_reduced.fit(train_data_reduced)"
   ]
  },
  {
   "cell_type": "code",
   "execution_count": 18,
   "id": "6e737606-a120-4b43-9e2e-e71bb9cd0347",
   "metadata": {},
   "outputs": [],
   "source": [
    "## Evaluate Model Accuracy\n",
    "train_results_reduced = lr_model_reduced.evaluate(train_data_reduced)\n",
    "test_results_reduced = lr_model_reduced.evaluate(test_data_reduced)"
   ]
  },
  {
   "cell_type": "code",
   "execution_count": 19,
   "id": "d5469c57-019b-4297-b250-f9d78e9e26e3",
   "metadata": {},
   "outputs": [
    {
     "name": "stdout",
     "output_type": "stream",
     "text": [
      "Train R^2: 0.9159627477499088 & R^2 Adj.: 0.912761328616572\n",
      "Test R^2: 0.9401543493307445 & R^2 Adj.: 0.9345873120591859\n"
     ]
    }
   ],
   "source": [
    "## Show Model Values\n",
    "print(f'Train R^2: {train_results_reduced.r2} & R^2 Adj.: {train_results_reduced.r2adj}')\n",
    "print(f'Test R^2: {test_results_reduced.r2} & R^2 Adj.: {test_results_reduced.r2adj}')"
   ]
  },
  {
   "cell_type": "code",
   "execution_count": 20,
   "id": "e39acb11-e782-46b4-b10f-6b85493846eb",
   "metadata": {},
   "outputs": [
    {
     "name": "stdout",
     "output_type": "stream",
     "text": [
      "(0.0030732436723790446, True)\n",
      "(5.921468932501561e-05, True)\n",
      "(1.354472090042691e-14, True)\n",
      "(0.034170285859477234, True)\n",
      "(0.006256788700951699, True)\n"
     ]
    }
   ],
   "source": [
    "## Review p-values of columns\n",
    "## Removing age, tonnage, passenger_density since not significant\n",
    "for each in zip(lr_model_reduced.summary.pValues, [val <= 0.05 for val in lr_model_reduced.summary.pValues]):\n",
    "    print(each)"
   ]
  },
  {
   "cell_type": "raw",
   "id": "5fd36632-69b2-4b4f-8ff5-d314d949aa47",
   "metadata": {},
   "source": [
    "## Full Model r2 and r2adj\n",
    "Train R^2: 0.9253832482880808 & R^2 Adj.: 0.920262490817655\n",
    "Test R^2: 0.9241500945990748 & R^2 Adj.: 0.9108763611539129\n",
    "\n",
    "## Full Model p-values\n",
    "'age' - (0.31699735845888855, False)\n",
    "'tonnage' - (0.7039341525637155, False)\n",
    "'passengers' - (0.010249985527425176, True)\n",
    "'length' - (0.0015243196734100461, True)\n",
    "'cabins' - (5.691003224228552e-13, True)\n",
    "'passenger_density' - (0.6413383982278091, False)\n",
    "'cruise_line_index' - (0.042687684449079555, True)\n",
    "'intercept' - (0.4240276781005119, False)\n",
    "\n",
    "## Reduced Model r2 and r2adj\n",
    "Train R^2: 0.9159627477499088 & R^2 Adj.: 0.912761328616572\n",
    "Test R^2: 0.9401543493307445 & R^2 Adj.: 0.9345873120591859\n",
    "\n",
    "## Reduced Model p-values\n",
    "'passengers' - (0.0030732436723790446, True)\n",
    "'length' - (5.921468932501561e-05, True)\n",
    "'cabins' - (1.354472090042691e-14, True)\n",
    "'cruise_line_index' - (0.034170285859477234, True)\n",
    "'intercept' - (0.006256788700951699, True)"
   ]
  }
 ],
 "metadata": {
  "kernelspec": {
   "display_name": "PySpark",
   "language": "python",
   "name": "pyspark"
  },
  "language_info": {
   "codemirror_mode": {
    "name": "ipython",
    "version": 3
   },
   "file_extension": ".py",
   "mimetype": "text/x-python",
   "name": "python",
   "nbconvert_exporter": "python",
   "pygments_lexer": "ipython3",
   "version": "3.8.12"
  }
 },
 "nbformat": 4,
 "nbformat_minor": 5
}