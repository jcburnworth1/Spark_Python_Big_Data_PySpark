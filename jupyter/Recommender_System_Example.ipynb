{
 "cells": [
  {
   "cell_type": "code",
   "execution_count": 5,
   "id": "d83fefe2-401d-4039-9ffa-0f56af940f4e",
   "metadata": {},
   "outputs": [],
   "source": [
    "## Import Libraries\n",
    "from pyspark.sql import SparkSession\n",
    "from pyspark.sql.types import StructType, StructField, IntegerType, DoubleType\n",
    "from pyspark.ml.recommendation import ALS\n",
    "from pyspark.ml.evaluation import RegressionEvaluator\n",
    "\n",
    "## Set seed\n",
    "seed = 42"
   ]
  },
  {
   "cell_type": "code",
   "execution_count": 6,
   "id": "d370fb28-8f4a-42c2-9309-4d067fad14f6",
   "metadata": {},
   "outputs": [],
   "source": [
    "## Create Spark Session\n",
    "spark = SparkSession.builder.appName('recSystem').getOrCreate()"
   ]
  },
  {
   "cell_type": "code",
   "execution_count": 8,
   "id": "243fd959-985c-4c4e-bb8f-be4c66522497",
   "metadata": {},
   "outputs": [],
   "source": [
    "## Setup Schema\n",
    "schema = StructType(fields=[StructField('movie_id', IntegerType(), True),\n",
    "                            StructField('rating', DoubleType(), True),\n",
    "                            StructField('user_id', IntegerType(), True)])"
   ]
  },
  {
   "cell_type": "code",
   "execution_count": 9,
   "id": "37de9bb6-4673-4ef0-beb0-482d65eb3070",
   "metadata": {},
   "outputs": [
    {
     "name": "stdout",
     "output_type": "stream",
     "text": [
      "+--------+------+-------+\n",
      "|movie_id|rating|user_id|\n",
      "+--------+------+-------+\n",
      "|       2|   3.0|      0|\n",
      "|       3|   1.0|      0|\n",
      "|       5|   2.0|      0|\n",
      "|       9|   4.0|      0|\n",
      "|      11|   1.0|      0|\n",
      "+--------+------+-------+\n",
      "only showing top 5 rows\n",
      "\n",
      "root\n",
      " |-- movie_id: integer (nullable = true)\n",
      " |-- rating: double (nullable = true)\n",
      " |-- user_id: integer (nullable = true)\n",
      "\n"
     ]
    }
   ],
   "source": [
    "## Load Data\n",
    "df = spark.read.csv('gs://spark-training-data/datasets/movielens_ratings.csv', header=True,\n",
    "                    inferSchema=False, schema=schema)\n",
    "df.show(5)\n",
    "df.printSchema() ## Confirm proper schema"
   ]
  },
  {
   "cell_type": "code",
   "execution_count": 11,
   "id": "e50087fe-e840-4741-bae9-beab4a0acffb",
   "metadata": {},
   "outputs": [
    {
     "name": "stdout",
     "output_type": "stream",
     "text": [
      "+-------+------------------+------------------+------------------+\n",
      "|summary|          movie_id|            rating|           user_id|\n",
      "+-------+------------------+------------------+------------------+\n",
      "|  count|              1501|              1501|              1501|\n",
      "|   mean| 49.40572951365756|1.7741505662891406|14.383744170552964|\n",
      "| stddev|28.937034065088994| 1.187276166124803| 8.591040424293272|\n",
      "|    min|                 0|               1.0|                 0|\n",
      "|    max|                99|               5.0|                29|\n",
      "+-------+------------------+------------------+------------------+\n",
      "\n"
     ]
    }
   ],
   "source": [
    "df.describe().show()"
   ]
  },
  {
   "cell_type": "code",
   "execution_count": 12,
   "id": "3a6d7713-bb10-4aa1-b446-612c46fa0a04",
   "metadata": {},
   "outputs": [],
   "source": [
    "## Split into training & test\n",
    "train_data, test_data = df.randomSplit([0.8,0.2], seed=seed)"
   ]
  },
  {
   "cell_type": "code",
   "execution_count": 13,
   "id": "f110fdbc-5efd-4fc9-9fe9-d035d1f75039",
   "metadata": {},
   "outputs": [],
   "source": [
    "## Build Alternating Least Squares\n",
    "als = ALS(maxIter=5, regParam=0.01, userCol='user_id', itemCol='movie_id', ratingCol='rating')"
   ]
  },
  {
   "cell_type": "code",
   "execution_count": 14,
   "id": "7b759cee-39d3-4233-9b09-e47f85f5a30e",
   "metadata": {},
   "outputs": [
    {
     "name": "stderr",
     "output_type": "stream",
     "text": [
      "                                                                                \r"
     ]
    }
   ],
   "source": [
    "## Fit Model\n",
    "als_model = als.fit(train_data)"
   ]
  },
  {
   "cell_type": "code",
   "execution_count": 15,
   "id": "8bb16cd8-5d22-480c-901d-d0401c931bb9",
   "metadata": {},
   "outputs": [
    {
     "name": "stdout",
     "output_type": "stream",
     "text": [
      "+--------+------+-------+-------------+\n",
      "|movie_id|rating|user_id|   prediction|\n",
      "+--------+------+-------+-------------+\n",
      "|      85|   3.0|      1|   -0.1890984|\n",
      "|      85|   3.0|      6|    1.8067293|\n",
      "|      85|   1.0|     13|    1.2966782|\n",
      "|      85|   1.0|     15|    1.6449969|\n",
      "|      53|   1.0|      6|     4.619213|\n",
      "|      53|   1.0|     12|  -0.11467552|\n",
      "|      53|   3.0|     20|  -0.11618537|\n",
      "|      78|   1.0|     19|    1.0745367|\n",
      "|      78|   1.0|     28|    0.2962752|\n",
      "|      34|   1.0|     16|    2.9352565|\n",
      "|      34|   1.0|     28|    1.6606547|\n",
      "|      81|   5.0|     28|    2.3649263|\n",
      "|      76|   1.0|      1|     3.218676|\n",
      "|      76|   1.0|     26|   0.39942393|\n",
      "|      26|   1.0|      3|    -0.532228|\n",
      "|      26|   1.0|     19|     1.634851|\n",
      "|      27|   3.0|     27|    2.6601024|\n",
      "|      44|   1.0|      6|-0.0074782073|\n",
      "|      44|   1.0|     28|    1.0622034|\n",
      "|      12|   1.0|     19|     3.092336|\n",
      "+--------+------+-------+-------------+\n",
      "only showing top 20 rows\n",
      "\n"
     ]
    }
   ],
   "source": [
    "## Make Predictions\n",
    "predictions = als_model.transform(test_data)\n",
    "predictions.show()"
   ]
  },
  {
   "cell_type": "code",
   "execution_count": 16,
   "id": "8b4c947f-e477-4334-a0df-a470fc6b56d2",
   "metadata": {},
   "outputs": [
    {
     "name": "stdout",
     "output_type": "stream",
     "text": [
      "RMSE: 1.6874738409854153\n"
     ]
    }
   ],
   "source": [
    "## Model Evaluation\n",
    "evaluator = RegressionEvaluator(metricName='rmse', labelCol='rating',\n",
    "                                predictionCol='prediction')\n",
    "rmse = evaluator.evaluate(predictions)\n",
    "print(f'RMSE: {rmse}')"
   ]
  },
  {
   "cell_type": "code",
   "execution_count": 22,
   "id": "17010162-5f44-44ff-bf4b-b867ccc13a13",
   "metadata": {},
   "outputs": [
    {
     "name": "stdout",
     "output_type": "stream",
     "text": [
      "+-------+--------+\n",
      "|user_id|movie_id|\n",
      "+-------+--------+\n",
      "|     11|       0|\n",
      "|     11|      23|\n",
      "|     11|      30|\n",
      "|     11|      36|\n",
      "|     11|      43|\n",
      "|     11|      45|\n",
      "|     11|      69|\n",
      "|     11|      71|\n",
      "|     11|      75|\n",
      "|     11|      80|\n",
      "+-------+--------+\n",
      "\n"
     ]
    }
   ],
   "source": [
    "## Sample \"deployment\" - Get single user's viewing history\n",
    "single_user = test_data.filter(test_data['user_id'] == 11).select(['user_id','movie_id'])\n",
    "single_user.show()"
   ]
  },
  {
   "cell_type": "code",
   "execution_count": 24,
   "id": "03c77dbc-05aa-45cd-8e32-ad6bf546e013",
   "metadata": {},
   "outputs": [
    {
     "name": "stdout",
     "output_type": "stream",
     "text": [
      "+-------+--------+----------+\n",
      "|user_id|movie_id|prediction|\n",
      "+-------+--------+----------+\n",
      "|     11|      43|0.21923077|\n",
      "|     11|      23| 1.6361773|\n",
      "|     11|      69| 2.3371408|\n",
      "|     11|      45|0.17520235|\n",
      "|     11|      80| 0.8080733|\n",
      "|     11|      75| -1.262606|\n",
      "|     11|      71|  2.540303|\n",
      "|     11|      30| 2.5853858|\n",
      "|     11|       0| 1.3063326|\n",
      "|     11|      36| 2.0547783|\n",
      "+-------+--------+----------+\n",
      "\n"
     ]
    }
   ],
   "source": [
    "## Predict single_user\n",
    "reccomendations = als_model.transform(single_user)\n",
    "reccomendations.show()"
   ]
  }
 ],
 "metadata": {
  "kernelspec": {
   "display_name": "PySpark",
   "language": "python",
   "name": "pyspark"
  },
  "language_info": {
   "codemirror_mode": {
    "name": "ipython",
    "version": 3
   },
   "file_extension": ".py",
   "mimetype": "text/x-python",
   "name": "python",
   "nbconvert_exporter": "python",
   "pygments_lexer": "ipython3",
   "version": "3.8.12"
  }
 },
 "nbformat": 4,
 "nbformat_minor": 5
}