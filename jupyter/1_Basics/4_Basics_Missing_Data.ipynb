{
 "cells": [
  {
   "cell_type": "code",
   "execution_count": 20,
   "id": "e82e3837-e099-4cca-8d41-c98b894505dd",
   "metadata": {},
   "outputs": [],
   "source": [
    "## Import Libraries\n",
    "from pyspark.sql import SparkSession\n",
    "from pyspark.sql.types import StructField, StringType, DoubleType, StructType\n",
    "from pyspark.sql.functions import mean"
   ]
  },
  {
   "cell_type": "code",
   "execution_count": 2,
   "id": "22fe55af-39c2-45a2-9a57-c9023adbe42e",
   "metadata": {},
   "outputs": [],
   "source": [
    "## Create Spark Session\n",
    "spark = SparkSession.builder.appName('MissingData').getOrCreate()"
   ]
  },
  {
   "cell_type": "code",
   "execution_count": 5,
   "id": "b9d06751-8b3c-49fd-98c9-cd6577e68cc3",
   "metadata": {},
   "outputs": [],
   "source": [
    "## Setup Schema\n",
    "schema = StructType(fields=[StructField('id', StringType(), True),\n",
    "                            StructField('name', StringType(), True),\n",
    "                            StructField('sales', DoubleType(), True)])"
   ]
  },
  {
   "cell_type": "code",
   "execution_count": 6,
   "id": "22d7330b-b168-4cb8-ac02-b69a7e1b84e2",
   "metadata": {},
   "outputs": [],
   "source": [
    "## Read in Data\n",
    "df = spark.read.csv('gs://spark-training-data/datasets/ContainsNull.csv', inferSchema=False,\n",
    "                    schema=schema, header=True)"
   ]
  },
  {
   "cell_type": "code",
   "execution_count": 7,
   "id": "d0c55b70-1799-44c2-af29-0329bd29f759",
   "metadata": {},
   "outputs": [
    {
     "name": "stdout",
     "output_type": "stream",
     "text": [
      "+----+-----+-----+\n",
      "|  id| name|sales|\n",
      "+----+-----+-----+\n",
      "|emp1| John| null|\n",
      "|emp2| null| null|\n",
      "|emp3| null|345.0|\n",
      "|emp4|Cindy|456.0|\n",
      "+----+-----+-----+\n",
      "\n",
      "root\n",
      " |-- id: string (nullable = true)\n",
      " |-- name: string (nullable = true)\n",
      " |-- sales: double (nullable = true)\n",
      "\n"
     ]
    }
   ],
   "source": [
    "## Show Data\n",
    "df.show()\n",
    "df.printSchema()"
   ]
  },
  {
   "cell_type": "code",
   "execution_count": 8,
   "id": "8925a66d-456d-4cca-8d78-6ea333a81050",
   "metadata": {},
   "outputs": [
    {
     "data": {
      "text/plain": [
       "['id', 'name', 'sales']"
      ]
     },
     "execution_count": 8,
     "metadata": {},
     "output_type": "execute_result"
    }
   ],
   "source": [
    "## Show column names (attribute)\n",
    "df.columns"
   ]
  },
  {
   "cell_type": "code",
   "execution_count": 9,
   "id": "e9fd89b2-721e-4b2f-b4a9-bed68cf87cea",
   "metadata": {},
   "outputs": [
    {
     "name": "stderr",
     "output_type": "stream",
     "text": [
      "[Stage 4:>                                                          (0 + 1) / 1]\r"
     ]
    },
    {
     "name": "stdout",
     "output_type": "stream",
     "text": [
      "+-------+----+-----+-----------------+\n",
      "|summary|  id| name|            sales|\n",
      "+-------+----+-----+-----------------+\n",
      "|  count|   4|    2|                2|\n",
      "|   mean|null| null|            400.5|\n",
      "| stddev|null| null|78.48885271170677|\n",
      "|    min|emp1|Cindy|            345.0|\n",
      "|    max|emp4| John|            456.0|\n",
      "+-------+----+-----+-----------------+\n",
      "\n"
     ]
    },
    {
     "name": "stderr",
     "output_type": "stream",
     "text": [
      "                                                                                \r"
     ]
    }
   ],
   "source": [
    "## Statistical Summary of df\n",
    "df.describe().show()"
   ]
  },
  {
   "cell_type": "code",
   "execution_count": 11,
   "id": "25d70264-df0b-43c9-97f6-41a270db81d7",
   "metadata": {},
   "outputs": [
    {
     "name": "stdout",
     "output_type": "stream",
     "text": [
      "+----+-----+-----+\n",
      "|  id| name|sales|\n",
      "+----+-----+-----+\n",
      "|emp4|Cindy|456.0|\n",
      "+----+-----+-----+\n",
      "\n"
     ]
    }
   ],
   "source": [
    "## Dropping missing data\n",
    "df.na.drop().show() # Not in place"
   ]
  },
  {
   "cell_type": "code",
   "execution_count": 12,
   "id": "c3f91eb8-fb0a-4d86-a434-4e3ba87ef542",
   "metadata": {},
   "outputs": [
    {
     "name": "stdout",
     "output_type": "stream",
     "text": [
      "+----+-----+-----+\n",
      "|  id| name|sales|\n",
      "+----+-----+-----+\n",
      "|emp1| John| null|\n",
      "|emp3| null|345.0|\n",
      "|emp4|Cindy|456.0|\n",
      "+----+-----+-----+\n",
      "\n"
     ]
    }
   ],
   "source": [
    "## Dropping missing data with threshold\n",
    "df.na.drop(thresh=2).show() # Must have at least two non-null values"
   ]
  },
  {
   "cell_type": "code",
   "execution_count": 14,
   "id": "7554ebf9-212c-43c3-9460-1b1633a7b319",
   "metadata": {},
   "outputs": [
    {
     "name": "stdout",
     "output_type": "stream",
     "text": [
      "+----+-----+-----+\n",
      "|  id| name|sales|\n",
      "+----+-----+-----+\n",
      "|emp4|Cindy|456.0|\n",
      "+----+-----+-----+\n",
      "\n",
      "+----+-----+-----+\n",
      "|  id| name|sales|\n",
      "+----+-----+-----+\n",
      "|emp1| John| null|\n",
      "|emp2| null| null|\n",
      "|emp3| null|345.0|\n",
      "|emp4|Cindy|456.0|\n",
      "+----+-----+-----+\n",
      "\n"
     ]
    }
   ],
   "source": [
    "## Dropping missing data with how\n",
    "df.na.drop(how='any').show() # At least one null\n",
    "df.na.drop(how='all').show() # All rows null"
   ]
  },
  {
   "cell_type": "code",
   "execution_count": 15,
   "id": "189d97b5-797a-4c3a-bcdb-b9aa22cbbd20",
   "metadata": {},
   "outputs": [
    {
     "name": "stdout",
     "output_type": "stream",
     "text": [
      "+----+-----+-----+\n",
      "|  id| name|sales|\n",
      "+----+-----+-----+\n",
      "|emp3| null|345.0|\n",
      "|emp4|Cindy|456.0|\n",
      "+----+-----+-----+\n",
      "\n"
     ]
    }
   ],
   "source": [
    "## Dropping missing data with subset\n",
    "df.na.drop(subset='sales').show() # Sales missing"
   ]
  },
  {
   "cell_type": "code",
   "execution_count": 18,
   "id": "4e383023-c1a0-4d53-8ce7-2f1613875295",
   "metadata": {},
   "outputs": [
    {
     "name": "stdout",
     "output_type": "stream",
     "text": [
      "+----+-----+-----+\n",
      "|  id| name|sales|\n",
      "+----+-----+-----+\n",
      "|emp1| John|  0.0|\n",
      "|emp2| null|  0.0|\n",
      "|emp3| null|345.0|\n",
      "|emp4|Cindy|456.0|\n",
      "+----+-----+-----+\n",
      "\n"
     ]
    }
   ],
   "source": [
    "## Fill in missing data - Natively pyspark will match data types\n",
    "df.na.fill(0).show()\n",
    "df.na.fill('No Name', subset=['name']).show() # Fill in values with subsettting"
   ]
  },
  {
   "cell_type": "code",
   "execution_count": 29,
   "id": "9c33a55c-14a5-47f9-9578-c523ab275e08",
   "metadata": {},
   "outputs": [
    {
     "name": "stdout",
     "output_type": "stream",
     "text": [
      "+----+-----+-----+\n",
      "|  id| name|sales|\n",
      "+----+-----+-----+\n",
      "|emp1| John|400.5|\n",
      "|emp2| null|400.5|\n",
      "|emp3| null|345.0|\n",
      "|emp4|Cindy|456.0|\n",
      "+----+-----+-----+\n",
      "\n"
     ]
    }
   ],
   "source": [
    "## Fill in with mean value\n",
    "mean_sales = df.select(mean(df['sales'])).collect()[0][0]\n",
    "df.na.fill(mean_sales, ['sales']).show()"
   ]
  },
  {
   "cell_type": "code",
   "execution_count": null,
   "id": "db643bfa-4a2e-4754-a432-e08953c3c70f",
   "metadata": {},
   "outputs": [],
   "source": []
  },
  {
   "cell_type": "code",
   "execution_count": null,
   "id": "bd57bcdc-237c-4851-9f81-c9936797b90a",
   "metadata": {},
   "outputs": [],
   "source": []
  }
 ],
 "metadata": {
  "kernelspec": {
   "display_name": "PySpark",
   "language": "python",
   "name": "pyspark"
  },
  "language_info": {
   "codemirror_mode": {
    "name": "ipython",
    "version": 3
   },
   "file_extension": ".py",
   "mimetype": "text/x-python",
   "name": "python",
   "nbconvert_exporter": "python",
   "pygments_lexer": "ipython3",
   "version": "3.8.12"
  }
 },
 "nbformat": 4,
 "nbformat_minor": 5
}