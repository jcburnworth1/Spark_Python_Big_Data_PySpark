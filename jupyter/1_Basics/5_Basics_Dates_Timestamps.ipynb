{
 "cells": [
  {
   "cell_type": "code",
   "execution_count": 31,
   "id": "15e59728-ac5e-4162-b012-7af05446b4ec",
   "metadata": {},
   "outputs": [],
   "source": [
    "## Import Libraries\n",
    "from pyspark.sql import SparkSession\n",
    "from pyspark.sql.functions import (dayofmonth, hour, dayofyear,\n",
    "                                   month, year, weekofyear,\n",
    "                                   format_number, date_format)\n",
    "from pyspark.sql.types import (StructField, StructType, StringType,\n",
    "                               IntegerType, DoubleType, TimestampType)"
   ]
  },
  {
   "cell_type": "code",
   "execution_count": 32,
   "id": "1de5815f-6eea-4fbd-ac00-e6c93615e9f9",
   "metadata": {},
   "outputs": [],
   "source": [
    "## Create Spark Session\n",
    "spark = SparkSession.builder.appName('DatesTimes').getOrCreate()"
   ]
  },
  {
   "cell_type": "code",
   "execution_count": 33,
   "id": "dac1876e-085f-4c95-b497-52be62d54422",
   "metadata": {},
   "outputs": [],
   "source": [
    "## Setup Schema\n",
    "schema = StructType(fields=[StructField('date', TimestampType(), True),\n",
    "                            StructField('open', DoubleType(), True),\n",
    "                            StructField('high', DoubleType(), True),\n",
    "                            StructField('low', DoubleType(), True),\n",
    "                            StructField('close', DoubleType(), True),\n",
    "                            StructField('volume', IntegerType(), True),\n",
    "                            StructField('adj_close', DoubleType(), True)])"
   ]
  },
  {
   "cell_type": "code",
   "execution_count": 34,
   "id": "0b4b53c6-b82b-409b-bed2-13ac8c2d214c",
   "metadata": {},
   "outputs": [],
   "source": [
    "## Read in Data\n",
    "df = spark.read.csv('gs://spark-training-data/datasets/appl_stock.csv', inferSchema=False,\n",
    "                    schema=schema, header=True)"
   ]
  },
  {
   "cell_type": "code",
   "execution_count": 35,
   "id": "b750105b-2efa-443a-99ef-91bc8e159276",
   "metadata": {},
   "outputs": [
    {
     "name": "stdout",
     "output_type": "stream",
     "text": [
      "+-------------------+------------------+------------------+------------------+------------------+---------+------------------+\n",
      "|               date|              open|              high|               low|             close|   volume|         adj_close|\n",
      "+-------------------+------------------+------------------+------------------+------------------+---------+------------------+\n",
      "|2010-01-04 00:00:00|        213.429998|        214.499996|212.38000099999996|        214.009998|123432400|         27.727039|\n",
      "|2010-01-05 00:00:00|        214.599998|        215.589994|        213.249994|        214.379993|150476200|27.774976000000002|\n",
      "|2010-01-06 00:00:00|        214.379993|            215.23|        210.750004|        210.969995|138040000|27.333178000000004|\n",
      "|2010-01-07 00:00:00|            211.75|        212.000006|        209.050005|            210.58|119282800|          27.28265|\n",
      "|2010-01-08 00:00:00|        210.299994|        212.000006|209.06000500000002|211.98000499999998|111902700|         27.464034|\n",
      "|2010-01-11 00:00:00|212.79999700000002|        213.000002|        208.450005|210.11000299999998|115557400|         27.221758|\n",
      "|2010-01-12 00:00:00|209.18999499999998|209.76999500000002|        206.419998|        207.720001|148614900|          26.91211|\n",
      "|2010-01-13 00:00:00|        207.870005|210.92999500000002|        204.099998|        210.650002|151473000|          27.29172|\n",
      "|2010-01-14 00:00:00|210.11000299999998|210.45999700000002|        209.020004|            209.43|108223500|         27.133657|\n",
      "|2010-01-15 00:00:00|210.92999500000002|211.59999700000003|        205.869999|            205.93|148516900|26.680197999999997|\n",
      "|2010-01-19 00:00:00|        208.330002|215.18999900000003|        207.240004|        215.039995|182501900|27.860484999999997|\n",
      "|2010-01-20 00:00:00|        214.910006|        215.549994|        209.500002|            211.73|153038200|         27.431644|\n",
      "|2010-01-21 00:00:00|        212.079994|213.30999599999998|        207.210003|        208.069996|152038600|         26.957455|\n",
      "|2010-01-22 00:00:00|206.78000600000001|        207.499996|            197.16|            197.75|220441900|         25.620401|\n",
      "|2010-01-25 00:00:00|202.51000200000001|        204.699999|        200.190002|        203.070002|266424900|26.309658000000002|\n",
      "|2010-01-26 00:00:00|205.95000100000001|        213.710005|        202.580004|        205.940001|466777500|         26.681494|\n",
      "|2010-01-27 00:00:00|        206.849995|            210.58|        199.530001|        207.880005|430642100|26.932840000000002|\n",
      "|2010-01-28 00:00:00|        204.930004|        205.500004|        198.699995|        199.289995|293375600|25.819922000000002|\n",
      "|2010-01-29 00:00:00|        201.079996|        202.199995|        190.250002|        192.060003|311488100|         24.883208|\n",
      "|2010-02-01 00:00:00|192.36999699999998|             196.0|191.29999899999999|        194.729998|187469100|         25.229131|\n",
      "+-------------------+------------------+------------------+------------------+------------------+---------+------------------+\n",
      "only showing top 20 rows\n",
      "\n",
      "root\n",
      " |-- date: timestamp (nullable = true)\n",
      " |-- open: double (nullable = true)\n",
      " |-- high: double (nullable = true)\n",
      " |-- low: double (nullable = true)\n",
      " |-- close: double (nullable = true)\n",
      " |-- volume: integer (nullable = true)\n",
      " |-- adj_close: double (nullable = true)\n",
      "\n"
     ]
    }
   ],
   "source": [
    "## Show Data\n",
    "df.show()\n",
    "df.printSchema()"
   ]
  },
  {
   "cell_type": "code",
   "execution_count": 36,
   "id": "ee6f73b5-854b-4997-873c-c8ec899dd0a9",
   "metadata": {},
   "outputs": [
    {
     "data": {
      "text/plain": [
       "{'date': datetime.datetime(2010, 1, 4, 0, 0),\n",
       " 'open': 213.429998,\n",
       " 'high': 214.499996,\n",
       " 'low': 212.38000099999996,\n",
       " 'close': 214.009998,\n",
       " 'volume': 123432400,\n",
       " 'adj_close': 27.727039}"
      ]
     },
     "execution_count": 36,
     "metadata": {},
     "output_type": "execute_result"
    }
   ],
   "source": [
    "## Date Example - 'date': datetime.datetime(2010, 1, 4, 0, 0)\n",
    "df.head(1)[0].asDict()"
   ]
  },
  {
   "cell_type": "code",
   "execution_count": 39,
   "id": "9c24b863-f3ed-470a-8a0f-4e6e64314916",
   "metadata": {},
   "outputs": [
    {
     "name": "stdout",
     "output_type": "stream",
     "text": [
      "+------------+\n",
      "|day_of_month|\n",
      "+------------+\n",
      "|           4|\n",
      "|           5|\n",
      "|           6|\n",
      "|           7|\n",
      "|           8|\n",
      "|          11|\n",
      "|          12|\n",
      "|          13|\n",
      "|          14|\n",
      "|          15|\n",
      "|          19|\n",
      "|          20|\n",
      "|          21|\n",
      "|          22|\n",
      "|          25|\n",
      "|          26|\n",
      "|          27|\n",
      "|          28|\n",
      "|          29|\n",
      "|           1|\n",
      "+------------+\n",
      "only showing top 20 rows\n",
      "\n"
     ]
    }
   ],
   "source": [
    "## Date Function example from pyspark.sql.functions\n",
    "df.select(dayofmonth(df['date']).alias('day_of_month')).show()"
   ]
  },
  {
   "cell_type": "code",
   "execution_count": 52,
   "id": "65028560-d7f8-4f91-86de-0ab0ba3cd6bb",
   "metadata": {},
   "outputs": [
    {
     "name": "stdout",
     "output_type": "stream",
     "text": [
      "+----+---------------------+\n",
      "|year|average_closing_price|\n",
      "+----+---------------------+\n",
      "|2015|               120.04|\n",
      "|2013|               472.63|\n",
      "|2014|               295.40|\n",
      "|2012|               576.05|\n",
      "|2016|               104.60|\n",
      "|2010|               259.84|\n",
      "|2011|               364.00|\n",
      "+----+---------------------+\n",
      "\n"
     ]
    }
   ],
   "source": [
    "## Example Problem - Monthly Closing Average\n",
    "result = df.groupBy(year(df['date']).alias('year')).mean('close')\n",
    "result.select('year', format_number('avg(close)',2)).withColumnRenamed('format_number(avg(close), 2)','average_closing_price').show()"
   ]
  }
 ],
 "metadata": {
  "kernelspec": {
   "display_name": "PySpark",
   "language": "python",
   "name": "pyspark"
  },
  "language_info": {
   "codemirror_mode": {
    "name": "ipython",
    "version": 3
   },
   "file_extension": ".py",
   "mimetype": "text/x-python",
   "name": "python",
   "nbconvert_exporter": "python",
   "pygments_lexer": "ipython3",
   "version": "3.8.12"
  }
 },
 "nbformat": 4,
 "nbformat_minor": 5
}