{
 "cells": [
  {
   "cell_type": "code",
   "execution_count": 10,
   "id": "46877d4b-86e4-47a6-a29f-46ab07487eaf",
   "metadata": {},
   "outputs": [],
   "source": [
    "## Import Libraries\n",
    "from pyspark.sql import SparkSession\n",
    "from pyspark.ml import pipeline\n",
    "from pyspark.ml.classification import RandomForestClassifier, GBTClassifier, DecisionTreeClassifier\n",
    "from pyspark.ml.evaluation import MulticlassClassificationEvaluator\n",
    "\n",
    "## Set seed\n",
    "seed = 42"
   ]
  },
  {
   "cell_type": "code",
   "execution_count": 11,
   "id": "51d8c538-8224-4908-8412-74666e7ca621",
   "metadata": {},
   "outputs": [],
   "source": [
    "## Create Spark Session\n",
    "spark = SparkSession.builder.appName('dtRfExample').getOrCreate()"
   ]
  },
  {
   "cell_type": "code",
   "execution_count": 12,
   "id": "84843aac-e7c3-4fd1-b23a-fd444a4689b0",
   "metadata": {},
   "outputs": [
    {
     "name": "stderr",
     "output_type": "stream",
     "text": [
      "21/11/30 21:53:56 WARN org.apache.spark.ml.source.libsvm.LibSVMFileFormat: 'numFeatures' option not specified, determining the number of features by going though the input. If you know the number in advance, please specify it via 'numFeatures' option to avoid the extra scan.\n"
     ]
    },
    {
     "name": "stdout",
     "output_type": "stream",
     "text": [
      "+-----+--------------------+\n",
      "|label|            features|\n",
      "+-----+--------------------+\n",
      "|  0.0|(692,[127,128,129...|\n",
      "|  1.0|(692,[158,159,160...|\n",
      "|  1.0|(692,[124,125,126...|\n",
      "|  1.0|(692,[152,153,154...|\n",
      "|  1.0|(692,[151,152,153...|\n",
      "+-----+--------------------+\n",
      "only showing top 5 rows\n",
      "\n"
     ]
    }
   ],
   "source": [
    "## Load Data\n",
    "df = spark.read.format('libsvm').load('gs://spark-training-data/datasets/sample_libsvm_data.txt')\n",
    "df.show(5)"
   ]
  },
  {
   "cell_type": "code",
   "execution_count": 13,
   "id": "79b13b96-5993-4922-8415-28e1be81db47",
   "metadata": {},
   "outputs": [],
   "source": [
    "## Split into train, test\n",
    "train_data, test_data = df.randomSplit([0.7,0.3], seed=seed)"
   ]
  },
  {
   "cell_type": "code",
   "execution_count": 14,
   "id": "8169f30b-821d-4ca2-8a9a-7658f42084e0",
   "metadata": {},
   "outputs": [],
   "source": [
    "## Create model(s) instance and fit\n",
    "dtc = DecisionTreeClassifier(labelCol='label', featuresCol='features') # Check out max_depth, max_trees, and info_gain\n",
    "dtc_model = dtc.fit(train_data)\n",
    "\n",
    "rfc = RandomForestClassifier(labelCol='label', featuresCol='features')\n",
    "rfc_model = rfc.fit(train_data)\n",
    "\n",
    "gbt = GBTClassifier(labelCol='label', featuresCol='features')\n",
    "gbt_model = gbt.fit(train_data)"
   ]
  },
  {
   "cell_type": "code",
   "execution_count": 15,
   "id": "40d66a49-54e6-4c89-80d2-e6838d9b3015",
   "metadata": {},
   "outputs": [
    {
     "name": "stdout",
     "output_type": "stream",
     "text": [
      "+-----+--------------------+-------------+-----------+----------+\n",
      "|label|            features|rawPrediction|probability|prediction|\n",
      "+-----+--------------------+-------------+-----------+----------+\n",
      "|  0.0|(692,[100,101,102...|   [24.0,0.0]|  [1.0,0.0]|       0.0|\n",
      "|  0.0|(692,[123,124,125...|   [24.0,0.0]|  [1.0,0.0]|       0.0|\n",
      "|  0.0|(692,[123,124,125...|   [24.0,0.0]|  [1.0,0.0]|       0.0|\n",
      "|  0.0|(692,[124,125,126...|   [24.0,0.0]|  [1.0,0.0]|       0.0|\n",
      "|  0.0|(692,[124,125,126...|   [24.0,0.0]|  [1.0,0.0]|       0.0|\n",
      "+-----+--------------------+-------------+-----------+----------+\n",
      "only showing top 5 rows\n",
      "\n",
      "+-----+--------------------+-------------+-----------+----------+\n",
      "|label|            features|rawPrediction|probability|prediction|\n",
      "+-----+--------------------+-------------+-----------+----------+\n",
      "|  0.0|(692,[100,101,102...|   [15.0,5.0]|[0.75,0.25]|       0.0|\n",
      "|  0.0|(692,[123,124,125...|   [20.0,0.0]|  [1.0,0.0]|       0.0|\n",
      "|  0.0|(692,[123,124,125...|   [20.0,0.0]|  [1.0,0.0]|       0.0|\n",
      "|  0.0|(692,[124,125,126...|   [20.0,0.0]|  [1.0,0.0]|       0.0|\n",
      "|  0.0|(692,[124,125,126...|   [18.0,2.0]|  [0.9,0.1]|       0.0|\n",
      "+-----+--------------------+-------------+-----------+----------+\n",
      "only showing top 5 rows\n",
      "\n",
      "+-----+--------------------+--------------------+--------------------+----------+\n",
      "|label|            features|       rawPrediction|         probability|prediction|\n",
      "+-----+--------------------+--------------------+--------------------+----------+\n",
      "|  0.0|(692,[100,101,102...|[1.13807712894465...|[0.90688279561938...|       0.0|\n",
      "|  0.0|(692,[123,124,125...|[1.54350200272498...|[0.95635347857270...|       0.0|\n",
      "|  0.0|(692,[123,124,125...|[1.54350200272498...|[0.95635347857270...|       0.0|\n",
      "|  0.0|(692,[124,125,126...|[1.54350200272498...|[0.95635347857270...|       0.0|\n",
      "|  0.0|(692,[124,125,126...|[1.26476994891203...|[0.92618690480740...|       0.0|\n",
      "+-----+--------------------+--------------------+--------------------+----------+\n",
      "only showing top 5 rows\n",
      "\n"
     ]
    }
   ],
   "source": [
    "## Make Predictions\n",
    "dtc_preds = dtc_model.transform(test_data)\n",
    "dtc_preds.show(5)\n",
    "\n",
    "rfc_preds = rfc_model.transform(test_data)\n",
    "rfc_preds.show(5)\n",
    "\n",
    "gbt_preds = gbt_model.transform(test_data)\n",
    "gbt_preds.show(5)"
   ]
  },
  {
   "cell_type": "code",
   "execution_count": 19,
   "id": "14eeafc9-5e90-466b-be8a-b285d439be13",
   "metadata": {},
   "outputs": [
    {
     "name": "stdout",
     "output_type": "stream",
     "text": [
      "DTC Accuracy: 0.9428571428571428\n",
      "RFC Accuracy: 1.0\n",
      "GBT Accuracy: 0.9428571428571428\n"
     ]
    }
   ],
   "source": [
    "## Evaluate the model using test data\n",
    "acc_eval = MulticlassClassificationEvaluator(metricName='accuracy')\n",
    "\n",
    "print(f'DTC Accuracy: {acc_eval.evaluate(dtc_preds)}')\n",
    "print(f'RFC Accuracy: {acc_eval.evaluate(rfc_preds)}')\n",
    "print(f'GBT Accuracy: {acc_eval.evaluate(gbt_preds)}')"
   ]
  },
  {
   "cell_type": "code",
   "execution_count": 22,
   "id": "f275d8a7-3e2c-4709-b038-cce6d73939b4",
   "metadata": {},
   "outputs": [
    {
     "data": {
      "text/plain": [
       "SparseVector(692, {101: 0.0079, 233: 0.0013, 238: 0.0022, 242: 0.0076, 245: 0.0338, 260: 0.0028, 264: 0.0162, 271: 0.0019, 272: 0.0467, 290: 0.036, 301: 0.0465, 350: 0.05, 356: 0.0059, 378: 0.0963, 379: 0.051, 405: 0.0438, 407: 0.0424, 414: 0.0127, 425: 0.0035, 434: 0.1438, 454: 0.0033, 455: 0.0441, 462: 0.05, 466: 0.01, 489: 0.0928, 497: 0.0067, 517: 0.0544, 541: 0.0037, 549: 0.0063, 551: 0.0344, 569: 0.001, 606: 0.0396, 629: 0.0012})"
      ]
     },
     "execution_count": 22,
     "metadata": {},
     "output_type": "execute_result"
    }
   ],
   "source": [
    "## Look into RandomForestModel\n",
    "rfc_model.featureImportances # Higher the number, the more important - See documentation"
   ]
  }
 ],
 "metadata": {
  "kernelspec": {
   "display_name": "PySpark",
   "language": "python",
   "name": "pyspark"
  },
  "language_info": {
   "codemirror_mode": {
    "name": "ipython",
    "version": 3
   },
   "file_extension": ".py",
   "mimetype": "text/x-python",
   "name": "python",
   "nbconvert_exporter": "python",
   "pygments_lexer": "ipython3",
   "version": "3.8.12"
  }
 },
 "nbformat": 4,
 "nbformat_minor": 5
}