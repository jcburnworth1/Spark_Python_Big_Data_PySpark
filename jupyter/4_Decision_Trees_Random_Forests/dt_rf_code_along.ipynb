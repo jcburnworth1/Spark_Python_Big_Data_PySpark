{
 "cells": [
  {
   "cell_type": "code",
   "execution_count": 17,
   "id": "7482b487-8d39-4b6b-bdc8-5929760c423b",
   "metadata": {},
   "outputs": [],
   "source": [
    "## Import Libraries\n",
    "from pyspark.sql import SparkSession\n",
    "from pyspark.ml.feature import VectorAssembler, StringIndexer\n",
    "from pyspark.sql.types import StructType, StructField, StringType, DoubleType, IntegerType\n",
    "from pyspark.ml.classification import RandomForestClassifier, GBTClassifier, DecisionTreeClassifier\n",
    "from pyspark.ml.evaluation import BinaryClassificationEvaluator, MulticlassClassificationEvaluator\n",
    "\n",
    "## Set seed\n",
    "seed = 42"
   ]
  },
  {
   "cell_type": "code",
   "execution_count": 18,
   "id": "5427c94b-7cbe-4299-9049-39e8a8a7f6c7",
   "metadata": {},
   "outputs": [],
   "source": [
    "## Create Spark Session\n",
    "spark = SparkSession.builder.appName('dtRfExample').getOrCreate()"
   ]
  },
  {
   "cell_type": "code",
   "execution_count": 19,
   "id": "6ba08ebe-8d0b-4099-86c3-a0facffbb23a",
   "metadata": {},
   "outputs": [],
   "source": [
    "## Setup Schema\n",
    "schema = StructType(fields=[StructField('school', StringType(), True),\n",
    "                            StructField('private', StringType(), True),\n",
    "                            StructField('apps', IntegerType(), True),\n",
    "                            StructField('accept', IntegerType(), True),\n",
    "                            StructField('enroll', IntegerType(), True),\n",
    "                            StructField('top_10_perc', IntegerType(), True),\n",
    "                            StructField('top_25_perc', IntegerType(), True),\n",
    "                            StructField('f_undergrad', IntegerType(), True),\n",
    "                            StructField('p_undergrad', IntegerType(), True),\n",
    "                            StructField('outstate', IntegerType(), True),\n",
    "                            StructField('room_board', IntegerType(), True),\n",
    "                            StructField('books', IntegerType(), True),\n",
    "                            StructField('personal', IntegerType(), True),\n",
    "                            StructField('phd', IntegerType(), True),\n",
    "                            StructField('terminal', IntegerType(), True),\n",
    "                            StructField('s_f_ratio', DoubleType(), True),\n",
    "                            StructField('perc_alumni', IntegerType(), True),\n",
    "                            StructField('expend', IntegerType(), True),\n",
    "                            StructField('grad_rate', IntegerType(), True)])"
   ]
  },
  {
   "cell_type": "code",
   "execution_count": 20,
   "id": "573f7e71-1ade-4a9b-82d1-9fe9e585db31",
   "metadata": {},
   "outputs": [
    {
     "name": "stdout",
     "output_type": "stream",
     "text": [
      "+--------------------+-------+----+------+------+-----------+-----------+-----------+-----------+--------+----------+-----+--------+---+--------+---------+-----------+------+---------+\n",
      "|              school|private|apps|accept|enroll|top_10_perc|top_25_perc|f_undergrad|p_undergrad|outstate|room_board|books|personal|phd|terminal|s_f_ratio|perc_alumni|expend|grad_rate|\n",
      "+--------------------+-------+----+------+------+-----------+-----------+-----------+-----------+--------+----------+-----+--------+---+--------+---------+-----------+------+---------+\n",
      "|Abilene Christian...|    Yes|1660|  1232|   721|         23|         52|       2885|        537|    7440|      3300|  450|    2200| 70|      78|     18.1|         12|  7041|       60|\n",
      "|  Adelphi University|    Yes|2186|  1924|   512|         16|         29|       2683|       1227|   12280|      6450|  750|    1500| 29|      30|     12.2|         16| 10527|       56|\n",
      "|      Adrian College|    Yes|1428|  1097|   336|         22|         50|       1036|         99|   11250|      3750|  400|    1165| 53|      66|     12.9|         30|  8735|       54|\n",
      "| Agnes Scott College|    Yes| 417|   349|   137|         60|         89|        510|         63|   12960|      5450|  450|     875| 92|      97|      7.7|         37| 19016|       59|\n",
      "|Alaska Pacific Un...|    Yes| 193|   146|    55|         16|         44|        249|        869|    7560|      4120|  800|    1500| 76|      72|     11.9|          2| 10922|       15|\n",
      "+--------------------+-------+----+------+------+-----------+-----------+-----------+-----------+--------+----------+-----+--------+---+--------+---------+-----------+------+---------+\n",
      "only showing top 5 rows\n",
      "\n",
      "root\n",
      " |-- school: string (nullable = true)\n",
      " |-- private: string (nullable = true)\n",
      " |-- apps: integer (nullable = true)\n",
      " |-- accept: integer (nullable = true)\n",
      " |-- enroll: integer (nullable = true)\n",
      " |-- top_10_perc: integer (nullable = true)\n",
      " |-- top_25_perc: integer (nullable = true)\n",
      " |-- f_undergrad: integer (nullable = true)\n",
      " |-- p_undergrad: integer (nullable = true)\n",
      " |-- outstate: integer (nullable = true)\n",
      " |-- room_board: integer (nullable = true)\n",
      " |-- books: integer (nullable = true)\n",
      " |-- personal: integer (nullable = true)\n",
      " |-- phd: integer (nullable = true)\n",
      " |-- terminal: integer (nullable = true)\n",
      " |-- s_f_ratio: double (nullable = true)\n",
      " |-- perc_alumni: integer (nullable = true)\n",
      " |-- expend: integer (nullable = true)\n",
      " |-- grad_rate: integer (nullable = true)\n",
      "\n"
     ]
    }
   ],
   "source": [
    "## Load Data\n",
    "df = spark.read.csv('gs://spark-training-data/datasets/College.csv', header=True, inferSchema=False, schema=schema)\n",
    "df.show(5)\n",
    "df.printSchema() ## Confirm proper schema"
   ]
  },
  {
   "cell_type": "code",
   "execution_count": 21,
   "id": "9b901cae-c5f0-4b45-890e-adf522a1399b",
   "metadata": {},
   "outputs": [
    {
     "name": "stdout",
     "output_type": "stream",
     "text": [
      "+--------------------+-------+----+------+------+-----------+-----------+-----------+-----------+--------+----------+-----+--------+---+--------+---------+-----------+------+---------+-------------+\n",
      "|              school|private|apps|accept|enroll|top_10_perc|top_25_perc|f_undergrad|p_undergrad|outstate|room_board|books|personal|phd|terminal|s_f_ratio|perc_alumni|expend|grad_rate|private_index|\n",
      "+--------------------+-------+----+------+------+-----------+-----------+-----------+-----------+--------+----------+-----+--------+---+--------+---------+-----------+------+---------+-------------+\n",
      "|Abilene Christian...|    Yes|1660|  1232|   721|         23|         52|       2885|        537|    7440|      3300|  450|    2200| 70|      78|     18.1|         12|  7041|       60|          0.0|\n",
      "|  Adelphi University|    Yes|2186|  1924|   512|         16|         29|       2683|       1227|   12280|      6450|  750|    1500| 29|      30|     12.2|         16| 10527|       56|          0.0|\n",
      "|      Adrian College|    Yes|1428|  1097|   336|         22|         50|       1036|         99|   11250|      3750|  400|    1165| 53|      66|     12.9|         30|  8735|       54|          0.0|\n",
      "| Agnes Scott College|    Yes| 417|   349|   137|         60|         89|        510|         63|   12960|      5450|  450|     875| 92|      97|      7.7|         37| 19016|       59|          0.0|\n",
      "|Alaska Pacific Un...|    Yes| 193|   146|    55|         16|         44|        249|        869|    7560|      4120|  800|    1500| 76|      72|     11.9|          2| 10922|       15|          0.0|\n",
      "+--------------------+-------+----+------+------+-----------+-----------+-----------+-----------+--------+----------+-----+--------+---+--------+---------+-----------+------+---------+-------------+\n",
      "only showing top 5 rows\n",
      "\n"
     ]
    }
   ],
   "source": [
    "## Convert private column to an index\n",
    "indexer = StringIndexer(inputCol='private', outputCol='private_index')\n",
    "df_indexed = indexer.fit(df).transform(df)\n",
    "df_indexed.show(5)"
   ]
  },
  {
   "cell_type": "code",
   "execution_count": 22,
   "id": "892c806b-7aa0-409a-9967-fd66a7b258ac",
   "metadata": {},
   "outputs": [
    {
     "data": {
      "text/plain": [
       "[Row(school='Abilene Christian University', private='Yes', apps=1660, accept=1232, enroll=721, top_10_perc=23, top_25_perc=52, f_undergrad=2885, p_undergrad=537, outstate=7440, room_board=3300, books=450, personal=2200, phd=70, terminal=78, s_f_ratio=18.1, perc_alumni=12, expend=7041, grad_rate=60, private_index=0.0, features=DenseVector([1660.0, 1232.0, 721.0, 23.0, 52.0, 2885.0, 537.0, 7440.0, 3300.0, 450.0, 2200.0, 70.0, 78.0, 18.1, 12.0, 7041.0, 60.0]))]"
      ]
     },
     "execution_count": 22,
     "metadata": {},
     "output_type": "execute_result"
    }
   ],
   "source": [
    "## Assembler & Create modeling df\n",
    "assembler = VectorAssembler(inputCols=['apps','accept','enroll','top_10_perc','top_25_perc',\n",
    "                                       'f_undergrad','p_undergrad','outstate','room_board',\n",
    "                                       'books','personal','phd','terminal','s_f_ratio',\n",
    "                                       'perc_alumni','expend','grad_rate'],\n",
    "                           outputCol='features')\n",
    "output_features = assembler.transform(df_indexed)\n",
    "output_features.head(1)"
   ]
  },
  {
   "cell_type": "code",
   "execution_count": 23,
   "id": "e6e74bc1-1f7a-4f29-bc22-bfa618694991",
   "metadata": {},
   "outputs": [
    {
     "name": "stdout",
     "output_type": "stream",
     "text": [
      "+--------------------+-------------+\n",
      "|            features|private_index|\n",
      "+--------------------+-------------+\n",
      "|[1660.0,1232.0,72...|          0.0|\n",
      "|[2186.0,1924.0,51...|          0.0|\n",
      "|[1428.0,1097.0,33...|          0.0|\n",
      "|[417.0,349.0,137....|          0.0|\n",
      "|[193.0,146.0,55.0...|          0.0|\n",
      "+--------------------+-------------+\n",
      "only showing top 5 rows\n",
      "\n"
     ]
    }
   ],
   "source": [
    "## Setup Final Data\n",
    "final_data = output_features.select(['features','private_index'])\n",
    "final_data.show(5)"
   ]
  },
  {
   "cell_type": "code",
   "execution_count": 24,
   "id": "58a3089c-e3c7-463e-a0e4-4e3f51d413e2",
   "metadata": {},
   "outputs": [],
   "source": [
    "## Split into train, test\n",
    "train_data, test_data = final_data.randomSplit([0.7,0.3], seed=seed)"
   ]
  },
  {
   "cell_type": "code",
   "execution_count": 25,
   "id": "b2a92610-fd2c-4797-ba02-e910f5c7df83",
   "metadata": {},
   "outputs": [],
   "source": [
    "## Setup Classification Models & fit training data\n",
    "dtc = DecisionTreeClassifier(labelCol='private_index', featuresCol='features')\n",
    "dtc_model = dtc.fit(train_data)\n",
    "\n",
    "rfc = RandomForestClassifier(labelCol='private_index', featuresCol='features')\n",
    "rfc_model = rfc.fit(train_data)\n",
    "\n",
    "gbt = GBTClassifier(labelCol='private_index', featuresCol='features')\n",
    "gbt_model = gbt.fit(train_data)"
   ]
  },
  {
   "cell_type": "code",
   "execution_count": 26,
   "id": "11f9d820-e9ad-44ef-87fa-0563d82b581e",
   "metadata": {},
   "outputs": [
    {
     "name": "stdout",
     "output_type": "stream",
     "text": [
      "+--------------------+-------------+-------------+--------------------+----------+\n",
      "|            features|private_index|rawPrediction|         probability|prediction|\n",
      "+--------------------+-------------+-------------+--------------------+----------+\n",
      "|[141.0,118.0,55.0...|          0.0|  [305.0,0.0]|           [1.0,0.0]|       0.0|\n",
      "|[174.0,146.0,88.0...|          0.0|   [20.0,0.0]|           [1.0,0.0]|       0.0|\n",
      "|[193.0,146.0,55.0...|          0.0|   [13.0,5.0]|[0.72222222222222...|       0.0|\n",
      "|[202.0,184.0,122....|          0.0|  [305.0,0.0]|           [1.0,0.0]|       0.0|\n",
      "|[222.0,185.0,91.0...|          0.0|  [305.0,0.0]|           [1.0,0.0]|       0.0|\n",
      "+--------------------+-------------+-------------+--------------------+----------+\n",
      "only showing top 5 rows\n",
      "\n",
      "+--------------------+-------------+--------------------+--------------------+----------+\n",
      "|            features|private_index|       rawPrediction|         probability|prediction|\n",
      "+--------------------+-------------+--------------------+--------------------+----------+\n",
      "|[141.0,118.0,55.0...|          0.0|[19.5723035436033...|[0.97861517718016...|       0.0|\n",
      "|[174.0,146.0,88.0...|          0.0|[17.6308888391950...|[0.88154444195975...|       0.0|\n",
      "|[193.0,146.0,55.0...|          0.0|[18.5182930174354...|[0.92591465087177...|       0.0|\n",
      "|[202.0,184.0,122....|          0.0|[19.8850688507016...|[0.99425344253508...|       0.0|\n",
      "|[222.0,185.0,91.0...|          0.0|[19.8850688507016...|[0.99425344253508...|       0.0|\n",
      "+--------------------+-------------+--------------------+--------------------+----------+\n",
      "only showing top 5 rows\n",
      "\n",
      "+--------------------+-------------+--------------------+--------------------+----------+\n",
      "|            features|private_index|       rawPrediction|         probability|prediction|\n",
      "+--------------------+-------------+--------------------+--------------------+----------+\n",
      "|[141.0,118.0,55.0...|          0.0|[1.59116137923085...|[0.96016360531821...|       0.0|\n",
      "|[174.0,146.0,88.0...|          0.0|[1.62095589076553...|[0.96238138380523...|       0.0|\n",
      "|[193.0,146.0,55.0...|          0.0|[1.02795255099290...|[0.88654293791943...|       0.0|\n",
      "|[202.0,184.0,122....|          0.0|[1.54816953267815...|[0.95674148225289...|       0.0|\n",
      "|[222.0,185.0,91.0...|          0.0|[1.54816953267815...|[0.95674148225289...|       0.0|\n",
      "+--------------------+-------------+--------------------+--------------------+----------+\n",
      "only showing top 5 rows\n",
      "\n"
     ]
    }
   ],
   "source": [
    "## Make Predictions for test data\n",
    "dtc_preds = dtc_model.transform(test_data)\n",
    "dtc_preds.show(5)\n",
    "\n",
    "rfc_preds = rfc_model.transform(test_data)\n",
    "rfc_preds.show(5)\n",
    "\n",
    "gbt_preds = gbt_model.transform(test_data)\n",
    "gbt_preds.show(5)"
   ]
  },
  {
   "cell_type": "code",
   "execution_count": 27,
   "id": "fdf0aff9-054e-447e-a8f2-fb2da1934044",
   "metadata": {},
   "outputs": [
    {
     "name": "stdout",
     "output_type": "stream",
     "text": [
      "DTC Eval: 0.9417249417249418\n",
      "RFC Eval: 0.9730707888602627\n",
      "GBT Eval: 0.9623359097043309\n"
     ]
    }
   ],
   "source": [
    "## Evaluate Models using Binary\n",
    "my_binary_eval = BinaryClassificationEvaluator(labelCol='private_index', rawPredictionCol='rawPrediction')\n",
    "\n",
    "print(f'DTC Eval: {my_binary_eval.evaluate(dtc_preds)}')\n",
    "print(f'RFC Eval: {my_binary_eval.evaluate(rfc_preds)}')\n",
    "print(f'GBT Eval: {my_binary_eval.evaluate(gbt_preds)}')"
   ]
  },
  {
   "cell_type": "code",
   "execution_count": 29,
   "id": "26e30b2f-c001-4836-a036-3978df429b25",
   "metadata": {},
   "outputs": [
    {
     "name": "stdout",
     "output_type": "stream",
     "text": [
      "DTC Accuracy: 0.925\n",
      "RFC Accuracy: 0.95\n",
      "GBT Accuracy: 0.94\n"
     ]
    }
   ],
   "source": [
    "## Evaluate Models using Multi\n",
    "accuracy_eval = MulticlassClassificationEvaluator(labelCol='private_index', predictionCol='prediction',\n",
    "                                                  metricName='accuracy')\n",
    "\n",
    "print(f'DTC Accuracy: {accuracy_eval.evaluate(dtc_preds)}')\n",
    "print(f'RFC Accuracy: {accuracy_eval.evaluate(rfc_preds)}')\n",
    "print(f'GBT Accuracy: {accuracy_eval.evaluate(gbt_preds)}')"
   ]
  }
 ],
 "metadata": {
  "kernelspec": {
   "display_name": "PySpark",
   "language": "python",
   "name": "pyspark"
  },
  "language_info": {
   "codemirror_mode": {
    "name": "ipython",
    "version": 3
   },
   "file_extension": ".py",
   "mimetype": "text/x-python",
   "name": "python",
   "nbconvert_exporter": "python",
   "pygments_lexer": "ipython3",
   "version": "3.8.12"
  }
 },
 "nbformat": 4,
 "nbformat_minor": 5
}