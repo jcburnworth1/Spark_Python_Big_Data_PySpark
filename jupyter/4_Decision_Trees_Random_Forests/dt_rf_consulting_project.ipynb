{
 "cells": [
  {
   "cell_type": "code",
   "execution_count": 1,
   "id": "fdb1c97c-0499-44cf-9317-3140642fb0cb",
   "metadata": {},
   "outputs": [],
   "source": [
    "## Import Libraries\n",
    "from pyspark.sql import SparkSession\n",
    "from pyspark.ml.feature import VectorAssembler\n",
    "from pyspark.sql.types import StructType, StructField, DoubleType, IntegerType\n",
    "from pyspark.ml.classification import RandomForestClassifier, GBTClassifier, DecisionTreeClassifier\n",
    "from pyspark.ml.evaluation import BinaryClassificationEvaluator, MulticlassClassificationEvaluator\n",
    "\n",
    "## Set seed\n",
    "seed = 42"
   ]
  },
  {
   "cell_type": "code",
   "execution_count": 2,
   "id": "b7313867-eca6-4aa0-835e-174f04310965",
   "metadata": {},
   "outputs": [],
   "source": [
    "## Create Spark Session\n",
    "spark = SparkSession.builder.appName('dtConsProject').getOrCreate()"
   ]
  },
  {
   "cell_type": "code",
   "execution_count": 3,
   "id": "87daff7f-a460-45ac-b5e5-f33e19ad4756",
   "metadata": {},
   "outputs": [],
   "source": [
    "## Setup Schema\n",
    "schema = StructType(fields=[StructField('a', IntegerType(), True),\n",
    "                            StructField('b', IntegerType(), True),\n",
    "                            StructField('c', DoubleType(), True),\n",
    "                            StructField('d', IntegerType(), True),\n",
    "                            StructField('spoiled', DoubleType(), True)])"
   ]
  },
  {
   "cell_type": "code",
   "execution_count": 4,
   "id": "c6fd4129-c568-4991-a65d-8f96f21e3719",
   "metadata": {},
   "outputs": [
    {
     "name": "stderr",
     "output_type": "stream",
     "text": [
      "[Stage 0:>                                                          (0 + 1) / 1]\r"
     ]
    },
    {
     "name": "stdout",
     "output_type": "stream",
     "text": [
      "+---+---+----+---+-------+\n",
      "|  a|  b|   c|  d|spoiled|\n",
      "+---+---+----+---+-------+\n",
      "|  4|  2|12.0|  3|    1.0|\n",
      "|  5|  6|12.0|  7|    1.0|\n",
      "|  6|  2|13.0|  6|    1.0|\n",
      "|  4|  2|12.0|  1|    1.0|\n",
      "|  4|  2|12.0|  3|    1.0|\n",
      "+---+---+----+---+-------+\n",
      "only showing top 5 rows\n",
      "\n",
      "root\n",
      " |-- a: integer (nullable = true)\n",
      " |-- b: integer (nullable = true)\n",
      " |-- c: double (nullable = true)\n",
      " |-- d: integer (nullable = true)\n",
      " |-- spoiled: double (nullable = true)\n",
      "\n"
     ]
    },
    {
     "name": "stderr",
     "output_type": "stream",
     "text": [
      "                                                                                \r"
     ]
    }
   ],
   "source": [
    "## Load Data\n",
    "df = spark.read.csv('gs://spark-training-data/datasets/dog_food.csv', header=True, inferSchema=False,\n",
    "                    schema=schema)\n",
    "df.show(5)\n",
    "df.printSchema() ## Confirm proper schema"
   ]
  },
  {
   "cell_type": "code",
   "execution_count": 5,
   "id": "0b5ed605-3f87-4fa0-94be-f6560a9e7084",
   "metadata": {},
   "outputs": [
    {
     "name": "stderr",
     "output_type": "stream",
     "text": [
      "                                                                                \r"
     ]
    },
    {
     "data": {
      "text/plain": [
       "[Row(a=4, b=2, c=12.0, d=3, spoiled=1.0, features=DenseVector([4.0, 2.0, 12.0, 3.0]))]"
      ]
     },
     "execution_count": 5,
     "metadata": {},
     "output_type": "execute_result"
    }
   ],
   "source": [
    "## Assembler & Create modeling df\n",
    "assembler = VectorAssembler(inputCols=['a','b','c','d'],\n",
    "                           outputCol='features')\n",
    "output_features = assembler.transform(df)\n",
    "output_features.head(1)"
   ]
  },
  {
   "cell_type": "code",
   "execution_count": 7,
   "id": "1d4c0403-b1a3-441b-9ed6-ebfe288b9f4b",
   "metadata": {},
   "outputs": [
    {
     "name": "stderr",
     "output_type": "stream",
     "text": [
      "[Stage 2:>                                                          (0 + 1) / 1]\r"
     ]
    },
    {
     "name": "stdout",
     "output_type": "stream",
     "text": [
      "+------------------+-------+\n",
      "|          features|spoiled|\n",
      "+------------------+-------+\n",
      "|[4.0,2.0,12.0,3.0]|    1.0|\n",
      "|[5.0,6.0,12.0,7.0]|    1.0|\n",
      "|[6.0,2.0,13.0,6.0]|    1.0|\n",
      "|[4.0,2.0,12.0,1.0]|    1.0|\n",
      "|[4.0,2.0,12.0,3.0]|    1.0|\n",
      "+------------------+-------+\n",
      "only showing top 5 rows\n",
      "\n"
     ]
    },
    {
     "name": "stderr",
     "output_type": "stream",
     "text": [
      "                                                                                \r"
     ]
    }
   ],
   "source": [
    "## Setup Final Data\n",
    "final_data = output_features.select(['features','spoiled'])\n",
    "final_data.show(5)"
   ]
  },
  {
   "cell_type": "code",
   "execution_count": 8,
   "id": "08e46d0e-4758-4e4a-b67d-17b32be14e38",
   "metadata": {},
   "outputs": [],
   "source": [
    "## Split into train, test\n",
    "train_data, test_data = final_data.randomSplit([0.7,0.3], seed=seed)"
   ]
  },
  {
   "cell_type": "code",
   "execution_count": 9,
   "id": "b5c6d358-c062-4e81-a07d-4678d68f2fc3",
   "metadata": {},
   "outputs": [
    {
     "name": "stderr",
     "output_type": "stream",
     "text": [
      "                                                                                \r"
     ]
    }
   ],
   "source": [
    "## Setup Classification Models & fit training data\n",
    "dtc = DecisionTreeClassifier(labelCol='spoiled', featuresCol='features')\n",
    "dtc_model = dtc.fit(train_data)\n",
    "\n",
    "rfc = RandomForestClassifier(labelCol='spoiled', featuresCol='features')\n",
    "rfc_model = rfc.fit(train_data)\n",
    "\n",
    "gbt = GBTClassifier(labelCol='spoiled', featuresCol='features')\n",
    "gbt_model = gbt.fit(train_data)"
   ]
  },
  {
   "cell_type": "code",
   "execution_count": 10,
   "id": "444239a3-20e0-4e1a-96b4-3107f80662b5",
   "metadata": {},
   "outputs": [
    {
     "name": "stdout",
     "output_type": "stream",
     "text": [
      "+------------------+-------+-------------+--------------------+----------+\n",
      "|          features|spoiled|rawPrediction|         probability|prediction|\n",
      "+------------------+-------+-------------+--------------------+----------+\n",
      "|[1.0,1.0,12.0,4.0]|    1.0|   [0.0,92.0]|           [0.0,1.0]|       1.0|\n",
      "| [1.0,3.0,8.0,3.0]|    0.0|  [243.0,1.0]|[0.99590163934426...|       0.0|\n",
      "| [1.0,3.0,9.0,8.0]|    0.0|  [243.0,1.0]|[0.99590163934426...|       0.0|\n",
      "| [1.0,4.0,8.0,1.0]|    0.0|  [243.0,1.0]|[0.99590163934426...|       0.0|\n",
      "| [1.0,4.0,9.0,6.0]|    0.0|  [243.0,1.0]|[0.99590163934426...|       0.0|\n",
      "+------------------+-------+-------------+--------------------+----------+\n",
      "only showing top 5 rows\n",
      "\n",
      "+------------------+-------+--------------------+--------------------+----------+\n",
      "|          features|spoiled|       rawPrediction|         probability|prediction|\n",
      "+------------------+-------+--------------------+--------------------+----------+\n",
      "|[1.0,1.0,12.0,4.0]|    1.0|[0.16666666666666...|[0.00833333333333...|       1.0|\n",
      "| [1.0,3.0,8.0,3.0]|    0.0|[18.6944254962537...|[0.93472127481268...|       0.0|\n",
      "| [1.0,3.0,9.0,8.0]|    0.0|[17.6988221971940...|[0.88494110985970...|       0.0|\n",
      "| [1.0,4.0,8.0,1.0]|    0.0|[19.5076338682640...|[0.97538169341320...|       0.0|\n",
      "| [1.0,4.0,9.0,6.0]|    0.0|[18.7568086718237...|[0.93784043359118...|       0.0|\n",
      "+------------------+-------+--------------------+--------------------+----------+\n",
      "only showing top 5 rows\n",
      "\n",
      "+------------------+-------+--------------------+--------------------+----------+\n",
      "|          features|spoiled|       rawPrediction|         probability|prediction|\n",
      "+------------------+-------+--------------------+--------------------+----------+\n",
      "|[1.0,1.0,12.0,4.0]|    1.0|[-1.5435020027249...|[0.04364652142729...|       1.0|\n",
      "| [1.0,3.0,8.0,3.0]|    0.0|[1.54350826373999...|[0.95635400125806...|       0.0|\n",
      "| [1.0,3.0,9.0,8.0]|    0.0|[1.54353066791247...|[0.95635587156609...|       0.0|\n",
      "| [1.0,4.0,8.0,1.0]|    0.0|[1.55234642588874...|[0.95708590607663...|       0.0|\n",
      "| [1.0,4.0,9.0,6.0]|    0.0|[1.54350841009936...|[0.95635401347644...|       0.0|\n",
      "+------------------+-------+--------------------+--------------------+----------+\n",
      "only showing top 5 rows\n",
      "\n"
     ]
    }
   ],
   "source": [
    "## Make Predictions for test data\n",
    "dtc_preds = dtc_model.transform(test_data)\n",
    "dtc_preds.show(5)\n",
    "\n",
    "rfc_preds = rfc_model.transform(test_data)\n",
    "rfc_preds.show(5)\n",
    "\n",
    "gbt_preds = gbt_model.transform(test_data)\n",
    "gbt_preds.show(5)"
   ]
  },
  {
   "cell_type": "code",
   "execution_count": 11,
   "id": "2fe034d1-9988-41db-bfea-38b5252c19ac",
   "metadata": {},
   "outputs": [
    {
     "name": "stdout",
     "output_type": "stream",
     "text": [
      "DTC Eval: 0.9936507936507937\n",
      "RFC Eval: 0.9898412698412699\n",
      "GBT Eval: 0.9952380952380951\n"
     ]
    }
   ],
   "source": [
    "## Evaluate Models using Binary\n",
    "my_binary_eval = BinaryClassificationEvaluator(labelCol='spoiled', rawPredictionCol='rawPrediction')\n",
    "\n",
    "print(f'DTC Eval: {my_binary_eval.evaluate(dtc_preds)}')\n",
    "print(f'RFC Eval: {my_binary_eval.evaluate(rfc_preds)}')\n",
    "print(f'GBT Eval: {my_binary_eval.evaluate(gbt_preds)}')"
   ]
  },
  {
   "cell_type": "code",
   "execution_count": 12,
   "id": "3be32a7e-aaff-4995-8b15-5088b7253c1d",
   "metadata": {},
   "outputs": [
    {
     "name": "stdout",
     "output_type": "stream",
     "text": [
      "DTC Accuracy: 0.992\n",
      "RFC Accuracy: 0.992\n",
      "GBT Accuracy: 0.992\n"
     ]
    }
   ],
   "source": [
    "## Evaluate Models using Multi\n",
    "accuracy_eval = MulticlassClassificationEvaluator(labelCol='spoiled', predictionCol='prediction',\n",
    "                                                  metricName='accuracy')\n",
    "\n",
    "print(f'DTC Accuracy: {accuracy_eval.evaluate(dtc_preds)}')\n",
    "print(f'RFC Accuracy: {accuracy_eval.evaluate(rfc_preds)}')\n",
    "print(f'GBT Accuracy: {accuracy_eval.evaluate(gbt_preds)}')"
   ]
  },
  {
   "cell_type": "code",
   "execution_count": null,
   "id": "95ec44db-0f50-417f-a417-81668902f880",
   "metadata": {},
   "outputs": [],
   "source": []
  }
 ],
 "metadata": {
  "kernelspec": {
   "display_name": "PySpark",
   "language": "python",
   "name": "pyspark"
  },
  "language_info": {
   "codemirror_mode": {
    "name": "ipython",
    "version": 3
   },
   "file_extension": ".py",
   "mimetype": "text/x-python",
   "name": "python",
   "nbconvert_exporter": "python",
   "pygments_lexer": "ipython3",
   "version": "3.8.12"
  }
 },
 "nbformat": 4,
 "nbformat_minor": 5
}