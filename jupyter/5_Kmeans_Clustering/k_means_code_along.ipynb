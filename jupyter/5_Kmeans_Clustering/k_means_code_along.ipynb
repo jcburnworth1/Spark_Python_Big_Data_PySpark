{
 "cells": [
  {
   "cell_type": "code",
   "execution_count": 35,
   "id": "06ed34b5-5537-4f6e-84f4-853b5d88034f",
   "metadata": {},
   "outputs": [],
   "source": [
    "## Import Libraries\n",
    "from pyspark.sql import SparkSession\n",
    "from pyspark.ml.feature import VectorAssembler, StandardScaler\n",
    "from pyspark.sql.types import StructType, StructField, DoubleType\n",
    "from pyspark.ml.clustering import KMeans\n",
    "\n",
    "## Set seed\n",
    "seed = 1"
   ]
  },
  {
   "cell_type": "code",
   "execution_count": 36,
   "id": "539349b9-0e8a-4007-a84c-728bf73c1fea",
   "metadata": {},
   "outputs": [],
   "source": [
    "## Create Spark Session\n",
    "spark = SparkSession.builder.appName('kmCodeAlong').getOrCreate()"
   ]
  },
  {
   "cell_type": "code",
   "execution_count": 37,
   "id": "13b1e434-9a0b-465e-8cee-fa6627b801ba",
   "metadata": {},
   "outputs": [],
   "source": [
    "## Setup Schema\n",
    "schema = StructType(fields=[StructField('area', DoubleType(), True),\n",
    "                            StructField('perimeter', DoubleType(), True),\n",
    "                            StructField('compactness', DoubleType(), True),\n",
    "                            StructField('length_of_kernel', DoubleType(), True),\n",
    "                            StructField('width_of_kernel', DoubleType(), True),\n",
    "                            StructField('asymmetry_coefficient', DoubleType(), True),\n",
    "                            StructField('length_of_groove', DoubleType(), True)])"
   ]
  },
  {
   "cell_type": "code",
   "execution_count": 38,
   "id": "0281801b-0443-4a44-87a7-eb213fe574e4",
   "metadata": {},
   "outputs": [
    {
     "name": "stdout",
     "output_type": "stream",
     "text": [
      "+-----+---------+-----------+------------------+------------------+---------------------+----------------+\n",
      "| area|perimeter|compactness|  length_of_kernel|   width_of_kernel|asymmetry_coefficient|length_of_groove|\n",
      "+-----+---------+-----------+------------------+------------------+---------------------+----------------+\n",
      "|15.26|    14.84|      0.871|             5.763|             3.312|                2.221|            5.22|\n",
      "|14.88|    14.57|     0.8811| 5.553999999999999|             3.333|                1.018|           4.956|\n",
      "|14.29|    14.09|      0.905|             5.291|3.3369999999999997|                2.699|           4.825|\n",
      "|13.84|    13.94|     0.8955|             5.324|3.3789999999999996|                2.259|           4.805|\n",
      "|16.14|    14.99|     0.9034|5.6579999999999995|             3.562|                1.355|           5.175|\n",
      "+-----+---------+-----------+------------------+------------------+---------------------+----------------+\n",
      "only showing top 5 rows\n",
      "\n",
      "root\n",
      " |-- area: double (nullable = true)\n",
      " |-- perimeter: double (nullable = true)\n",
      " |-- compactness: double (nullable = true)\n",
      " |-- length_of_kernel: double (nullable = true)\n",
      " |-- width_of_kernel: double (nullable = true)\n",
      " |-- asymmetry_coefficient: double (nullable = true)\n",
      " |-- length_of_groove: double (nullable = true)\n",
      "\n"
     ]
    }
   ],
   "source": [
    "## Load Data\n",
    "df = spark.read.csv('gs://spark-training-data/datasets/seeds_dataset.csv', header=True,\n",
    "                    inferSchema=False, schema=schema)\n",
    "df.show(5)\n",
    "df.printSchema() ## Confirm proper schema"
   ]
  },
  {
   "cell_type": "code",
   "execution_count": 39,
   "id": "09f5dda9-1a4d-477a-abfe-bf3f36f3630d",
   "metadata": {},
   "outputs": [
    {
     "data": {
      "text/plain": [
       "[Row(area=15.26, perimeter=14.84, compactness=0.871, length_of_kernel=5.763, width_of_kernel=3.312, asymmetry_coefficient=2.221, length_of_groove=5.22, features=DenseVector([15.26, 14.84, 0.871, 5.763, 3.312, 2.221, 5.22]))]"
      ]
     },
     "execution_count": 39,
     "metadata": {},
     "output_type": "execute_result"
    }
   ],
   "source": [
    "## Assembler & Create modeling df\n",
    "assembler = VectorAssembler(inputCols=df.columns,\n",
    "                           outputCol='features')\n",
    "output_features = assembler.transform(df)\n",
    "output_features.head(1)"
   ]
  },
  {
   "cell_type": "code",
   "execution_count": 40,
   "id": "c4f352eb-b619-4711-95c2-e8794ba7dacc",
   "metadata": {},
   "outputs": [],
   "source": [
    "## Setup Scaler & Scale Features\n",
    "scaler = StandardScaler(inputCol='features', outputCol='scaled_features')\n",
    "output_features_scaled = scaler.fit(output_features).transform(output_features)"
   ]
  },
  {
   "cell_type": "code",
   "execution_count": 46,
   "id": "17eba727-4de9-4bde-977a-f3ed8f50f67e",
   "metadata": {},
   "outputs": [
    {
     "name": "stdout",
     "output_type": "stream",
     "text": [
      "+--------------------+\n",
      "|     scaled_features|\n",
      "+--------------------+\n",
      "|[5.24452795332028...|\n",
      "|[5.11393027165175...|\n",
      "|[4.91116018695588...|\n",
      "|[4.75650503761158...|\n",
      "|[5.54696468981581...|\n",
      "+--------------------+\n",
      "only showing top 5 rows\n",
      "\n"
     ]
    }
   ],
   "source": [
    "## Setup Final Data\n",
    "final_data = output_features_scaled.select(['scaled_features'])\n",
    "final_data.show(5)"
   ]
  },
  {
   "cell_type": "code",
   "execution_count": 52,
   "id": "32566bf5-8736-461f-bdfb-71affe6f1e92",
   "metadata": {},
   "outputs": [],
   "source": [
    "## Setup Model & Fit\n",
    "kmeans = KMeans(featuresCol='scaled_features', k=3, seed=seed)\n",
    "kmeans_model = kmeans.fit(final_data)"
   ]
  },
  {
   "cell_type": "code",
   "execution_count": 53,
   "id": "3be5665d-9a90-476f-b42c-07bfede93ba6",
   "metadata": {},
   "outputs": [
    {
     "data": {
      "text/plain": [
       "428.6082011872446"
      ]
     },
     "execution_count": 53,
     "metadata": {},
     "output_type": "execute_result"
    }
   ],
   "source": [
    "## Evaluate KMeans Model\n",
    "wssse = kmeans_model.summary.trainingCost\n",
    "wssse"
   ]
  },
  {
   "cell_type": "code",
   "execution_count": 54,
   "id": "68f75696-25d8-41cb-9be0-78e8c869801c",
   "metadata": {},
   "outputs": [
    {
     "data": {
      "text/plain": [
       "[array([ 4.96198582, 10.97871333, 37.30930808, 12.44647267,  8.62880781,\n",
       "         1.80061978, 10.41913733]),\n",
       " array([ 4.07497225, 10.14410142, 35.89816849, 11.80812742,  7.54416916,\n",
       "         3.15410901, 10.38031464]),\n",
       " array([ 6.35645488, 12.40730852, 37.41990178, 13.93860446,  9.7892399 ,\n",
       "         2.41585013, 12.29286107])]"
      ]
     },
     "execution_count": 54,
     "metadata": {},
     "output_type": "execute_result"
    }
   ],
   "source": [
    "## Get Centers\n",
    "centers = kmeans_model.clusterCenters()\n",
    "centers"
   ]
  },
  {
   "cell_type": "code",
   "execution_count": 55,
   "id": "7bae5d2d-0b10-4523-a113-0101c5807dc8",
   "metadata": {},
   "outputs": [
    {
     "name": "stdout",
     "output_type": "stream",
     "text": [
      "+--------------------+----------+\n",
      "|     scaled_features|prediction|\n",
      "+--------------------+----------+\n",
      "|[5.24452795332028...|         0|\n",
      "|[5.11393027165175...|         0|\n",
      "|[4.91116018695588...|         0|\n",
      "|[4.75650503761158...|         0|\n",
      "|[5.54696468981581...|         0|\n",
      "|[4.94209121682475...|         0|\n",
      "|[5.04863143081749...|         0|\n",
      "|[4.84929812721816...|         0|\n",
      "|[5.71536696354628...|         2|\n",
      "|[5.65006812271202...|         0|\n",
      "|[5.24452795332028...|         0|\n",
      "|[4.82180387844584...|         0|\n",
      "|[4.77368894309428...|         0|\n",
      "|[4.73588435103234...|         0|\n",
      "|[4.72213722664617...|         0|\n",
      "|[5.01426361985209...|         0|\n",
      "|[4.80805675405968...|         0|\n",
      "|[5.39230954047151...|         0|\n",
      "|[5.05206821191403...|         0|\n",
      "|[4.37158555479908...|         1|\n",
      "+--------------------+----------+\n",
      "only showing top 20 rows\n",
      "\n"
     ]
    }
   ],
   "source": [
    "## Make Predictions & Show Clusters\n",
    "predictions_df = kmeans_model.transform(final_data)\n",
    "predictions_df.show()"
   ]
  }
 ],
 "metadata": {
  "kernelspec": {
   "display_name": "PySpark",
   "language": "python",
   "name": "pyspark"
  },
  "language_info": {
   "codemirror_mode": {
    "name": "ipython",
    "version": 3
   },
   "file_extension": ".py",
   "mimetype": "text/x-python",
   "name": "python",
   "nbconvert_exporter": "python",
   "pygments_lexer": "ipython3",
   "version": "3.8.12"
  }
 },
 "nbformat": 4,
 "nbformat_minor": 5
}