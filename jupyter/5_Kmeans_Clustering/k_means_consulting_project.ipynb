{
 "cells": [
  {
   "cell_type": "code",
   "execution_count": 52,
   "id": "06ed34b5-5537-4f6e-84f4-853b5d88034f",
   "metadata": {},
   "outputs": [],
   "source": [
    "## Import Libraries\n",
    "from pyspark.sql import SparkSession\n",
    "from pyspark.ml.feature import VectorAssembler, StringIndexer, StandardScaler\n",
    "from pyspark.sql.types import StructType, StructField, DoubleType, IntegerType, StringType\n",
    "from pyspark.ml.clustering import KMeans\n",
    "\n",
    "## Set seed\n",
    "seed = 42"
   ]
  },
  {
   "cell_type": "code",
   "execution_count": 53,
   "id": "539349b9-0e8a-4007-a84c-728bf73c1fea",
   "metadata": {},
   "outputs": [],
   "source": [
    "## Create Spark Session\n",
    "spark = SparkSession.builder.appName('kmConsProject').getOrCreate()"
   ]
  },
  {
   "cell_type": "code",
   "execution_count": 54,
   "id": "13b1e434-9a0b-465e-8cee-fa6627b801ba",
   "metadata": {},
   "outputs": [],
   "source": [
    "## Setup Schema\n",
    "schema = StructType(fields=[StructField('session_connection_time', DoubleType(), True),\n",
    "                            StructField('bytes_transferred', DoubleType(), True),\n",
    "                            StructField('kali_trace_used', IntegerType(), True),\n",
    "                            StructField('servers_corrupted', DoubleType(), True),\n",
    "                            StructField('pages_corrupted', DoubleType(), True),\n",
    "                            StructField('location', StringType(), True),\n",
    "                            StructField('wpm_typing_speed', DoubleType(), True)])"
   ]
  },
  {
   "cell_type": "code",
   "execution_count": 55,
   "id": "0281801b-0443-4a44-87a7-eb213fe574e4",
   "metadata": {},
   "outputs": [
    {
     "name": "stdout",
     "output_type": "stream",
     "text": [
      "+-----------------------+-----------------+---------------+-----------------+---------------+--------------------+----------------+\n",
      "|session_connection_time|bytes_transferred|kali_trace_used|servers_corrupted|pages_corrupted|            location|wpm_typing_speed|\n",
      "+-----------------------+-----------------+---------------+-----------------+---------------+--------------------+----------------+\n",
      "|                    8.0|           391.09|              1|             2.96|            7.0|            Slovenia|           72.37|\n",
      "|                   20.0|           720.99|              0|             3.04|            9.0|British Virgin Is...|           69.08|\n",
      "|                   31.0|           356.32|              1|             3.71|            8.0|             Tokelau|           70.58|\n",
      "|                    2.0|           228.08|              1|             2.48|            8.0|             Bolivia|            70.8|\n",
      "|                   20.0|            408.5|              0|             3.57|            8.0|                Iraq|           71.28|\n",
      "+-----------------------+-----------------+---------------+-----------------+---------------+--------------------+----------------+\n",
      "only showing top 5 rows\n",
      "\n",
      "root\n",
      " |-- session_connection_time: double (nullable = true)\n",
      " |-- bytes_transferred: double (nullable = true)\n",
      " |-- kali_trace_used: integer (nullable = true)\n",
      " |-- servers_corrupted: double (nullable = true)\n",
      " |-- pages_corrupted: double (nullable = true)\n",
      " |-- location: string (nullable = true)\n",
      " |-- wpm_typing_speed: double (nullable = true)\n",
      "\n"
     ]
    }
   ],
   "source": [
    "## Load Data\n",
    "df = spark.read.csv('gs://spark-training-data/datasets/hack_data.csv', header=True, inferSchema=False, schema=schema)\n",
    "df.show(5)\n",
    "df.printSchema() ## Confirm proper schema"
   ]
  },
  {
   "cell_type": "code",
   "execution_count": 56,
   "id": "88472ddf-cecf-456b-b286-de0c728d00da",
   "metadata": {},
   "outputs": [
    {
     "name": "stdout",
     "output_type": "stream",
     "text": [
      "+-----------------------+-----------------+---------------+-----------------+---------------+--------------------+----------------+--------------+\n",
      "|session_connection_time|bytes_transferred|kali_trace_used|servers_corrupted|pages_corrupted|            location|wpm_typing_speed|location_index|\n",
      "+-----------------------+-----------------+---------------+-----------------+---------------+--------------------+----------------+--------------+\n",
      "|                    8.0|           391.09|              1|             2.96|            7.0|            Slovenia|           72.37|          88.0|\n",
      "|                   20.0|           720.99|              0|             3.04|            9.0|British Virgin Is...|           69.08|          47.0|\n",
      "|                   31.0|           356.32|              1|             3.71|            8.0|             Tokelau|           70.58|          92.0|\n",
      "|                    2.0|           228.08|              1|             2.48|            8.0|             Bolivia|            70.8|         104.0|\n",
      "|                   20.0|            408.5|              0|             3.57|            8.0|                Iraq|           71.28|          24.0|\n",
      "+-----------------------+-----------------+---------------+-----------------+---------------+--------------------+----------------+--------------+\n",
      "only showing top 5 rows\n",
      "\n"
     ]
    }
   ],
   "source": [
    "## StringIndex Location\n",
    "indexer = StringIndexer(inputCol='location', outputCol='location_index')\n",
    "df_indexed = indexer.fit(df).transform(df)\n",
    "df_indexed.show(5)"
   ]
  },
  {
   "cell_type": "code",
   "execution_count": 64,
   "id": "09f5dda9-1a4d-477a-abfe-bf3f36f3630d",
   "metadata": {},
   "outputs": [
    {
     "data": {
      "text/plain": [
       "[Row(session_connection_time=8.0, bytes_transferred=391.09, kali_trace_used=1, servers_corrupted=2.96, pages_corrupted=7.0, location='Slovenia', wpm_typing_speed=72.37, location_index=88.0, features=DenseVector([8.0, 391.09, 1.0, 2.96, 7.0, 72.37]))]"
      ]
     },
     "execution_count": 64,
     "metadata": {},
     "output_type": "execute_result"
    }
   ],
   "source": [
    "## Assembler & Create modeling df\n",
    "assembler = VectorAssembler(inputCols=['session_connection_time','bytes_transferred','kali_trace_used',\n",
    "                                       'servers_corrupted','pages_corrupted','wpm_typing_speed'],\n",
    "                           outputCol='features')\n",
    "output_features = assembler.transform(df_indexed)\n",
    "output_features.head(1)"
   ]
  },
  {
   "cell_type": "code",
   "execution_count": 65,
   "id": "ae71ff86-0b2c-49ee-a5ad-40475a78d2e5",
   "metadata": {},
   "outputs": [],
   "source": [
    "## Setup Scaler & Scale Features\n",
    "scaler = StandardScaler(inputCol='features', outputCol='scaled_features')\n",
    "output_features_scaled = scaler.fit(output_features).transform(output_features)"
   ]
  },
  {
   "cell_type": "code",
   "execution_count": 66,
   "id": "17eba727-4de9-4bde-977a-f3ed8f50f67e",
   "metadata": {},
   "outputs": [
    {
     "name": "stdout",
     "output_type": "stream",
     "text": [
      "+--------------------+\n",
      "|     scaled_features|\n",
      "+--------------------+\n",
      "|[0.56785108466505...|\n",
      "|[1.41962771166263...|\n",
      "|[2.20042295307707...|\n",
      "|[0.14196277116626...|\n",
      "|[1.41962771166263...|\n",
      "+--------------------+\n",
      "only showing top 5 rows\n",
      "\n"
     ]
    }
   ],
   "source": [
    "## Setup Final Data\n",
    "final_data = output_features_scaled.select(['scaled_features'])\n",
    "final_data.show(5)"
   ]
  },
  {
   "cell_type": "code",
   "execution_count": 75,
   "id": "3be5665d-9a90-476f-b42c-07bfede93ba6",
   "metadata": {},
   "outputs": [],
   "source": [
    "## Setup Model & Fit\n",
    "kmeans2 = KMeans(featuresCol='scaled_features', k=2, seed=seed)\n",
    "kmeans_model_2 = kmeans2.fit(final_data)\n",
    "\n",
    "kmeans3 = KMeans(featuresCol='scaled_features', k=3, seed=seed)\n",
    "kmeans_model_3 = kmeans3.fit(final_data)"
   ]
  },
  {
   "cell_type": "code",
   "execution_count": 76,
   "id": "68f75696-25d8-41cb-9be0-78e8c869801c",
   "metadata": {},
   "outputs": [
    {
     "name": "stdout",
     "output_type": "stream",
     "text": [
      "601.7707512676691\n",
      "434.75507308487596\n"
     ]
    }
   ],
   "source": [
    "## Evaluate KMeans Model\n",
    "wssse_2 = kmeans_model_2.summary.trainingCost\n",
    "print(wssse_2)\n",
    "\n",
    "wssse_3 = kmeans_model_3.summary.trainingCost\n",
    "print(wssse_3)"
   ]
  },
  {
   "cell_type": "code",
   "execution_count": 80,
   "id": "1fac0031-4139-46b5-805f-01f321d25775",
   "metadata": {},
   "outputs": [
    {
     "name": "stdout",
     "output_type": "stream",
     "text": [
      "+----------+-----+\n",
      "|prediction|count|\n",
      "+----------+-----+\n",
      "|         1|  167|\n",
      "|         0|  167|\n",
      "+----------+-----+\n",
      "\n",
      "+----------+-----+\n",
      "|prediction|count|\n",
      "+----------+-----+\n",
      "|         1|   88|\n",
      "|         2|   79|\n",
      "|         0|  167|\n",
      "+----------+-----+\n",
      "\n"
     ]
    }
   ],
   "source": [
    "## Determine # of Hackers\n",
    "kmeans_model_2.transform(final_data).groupBy('prediction').count().show()\n",
    "\n",
    "kmeans_model_3.transform(final_data).groupBy('prediction').count().show()"
   ]
  },
  {
   "cell_type": "code",
   "execution_count": null,
   "id": "bfb5e970-5e1a-4572-8444-37e92e6499c1",
   "metadata": {},
   "outputs": [],
   "source": []
  }
 ],
 "metadata": {
  "kernelspec": {
   "display_name": "PySpark",
   "language": "python",
   "name": "pyspark"
  },
  "language_info": {
   "codemirror_mode": {
    "name": "ipython",
    "version": 3
   },
   "file_extension": ".py",
   "mimetype": "text/x-python",
   "name": "python",
   "nbconvert_exporter": "python",
   "pygments_lexer": "ipython3",
   "version": "3.8.12"
  }
 },
 "nbformat": 4,
 "nbformat_minor": 5
}